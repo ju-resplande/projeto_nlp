{
  "cells": [
    {
      "cell_type": "code",
      "execution_count": 4,
      "metadata": {
        "colab": {
          "base_uri": "https://localhost:8080/"
        },
        "id": "5bFx6SR1bpdR",
        "outputId": "58e67271-2eb8-40b3-d0ff-18a5098bf1ff"
      },
      "outputs": [
        {
          "name": "stderr",
          "output_type": "stream",
          "text": [
            "[nltk_data] Downloading package punkt to /root/nltk_data...\n",
            "[nltk_data]   Unzipping tokenizers/punkt.zip.\n",
            "[nltk_data] Downloading package rslp to /root/nltk_data...\n",
            "[nltk_data]   Unzipping stemmers/rslp.zip.\n"
          ]
        }
      ],
      "source": [
        "import os\n",
        "\n",
        "from sklearn.feature_extraction.text import TfidfVectorizer\n",
        "from sklearn.linear_model import LogisticRegression\n",
        "from sklearn.metrics import classification_report\n",
        "import pandas as pd \n",
        "import sklearn\n",
        "\n",
        "from utils import preprocess_sentence\n",
        "\n",
        "DATA_PATH = \"b2w/dataset\""
      ]
    },
    {
      "cell_type": "code",
      "execution_count": 5,
      "metadata": {
        "id": "wA3NOqX_bpdS"
      },
      "outputs": [],
      "source": [
        "data = dict()\n",
        "for split in  [\"train\", \"dev\", \"test\"]:\n",
        "    data[split] = pd.read_csv(os.path.join(DATA_PATH, f\"{split}_sa.csv\"))"
      ]
    },
    {
      "cell_type": "code",
      "execution_count": 6,
      "metadata": {
        "colab": {
          "base_uri": "https://localhost:8080/"
        },
        "id": "n9KuwqNVbpdS",
        "outputId": "25bc0b77-ae66-4e18-a1ba-138b7b833817"
      },
      "outputs": [
        {
          "data": {
            "text/plain": [
              "<21708x22301 sparse matrix of type '<class 'numpy.float64'>'\n",
              "\twith 465292 stored elements in Compressed Sparse Row format>"
            ]
          },
          "execution_count": 6,
          "metadata": {},
          "output_type": "execute_result"
        }
      ],
      "source": [
        "embedder = TfidfVectorizer(preprocessor=preprocess_sentence)\n",
        "embedder.fit_transform(data[\"train\"][\"review\"])"
      ]
    },
    {
      "cell_type": "code",
      "execution_count": 13,
      "metadata": {
        "id": "ZkBUlygvbpdT"
      },
      "outputs": [],
      "source": [
        "X, Y = dict(), dict()\n",
        "\n",
        "data[\"train\"] = data[\"train\"].sample(frac=1)\n",
        "for split in [\"train\", \"dev\", \"test\"]: \n",
        "    X[split] = embedder.transform(data[split][\"review\"])\n",
        "    Y[split] = data[split][\"rating\"].map({1:1, -1:0})"
      ]
    },
    {
      "cell_type": "code",
      "execution_count": 14,
      "metadata": {
        "colab": {
          "base_uri": "https://localhost:8080/"
        },
        "id": "cy2JzougWkT2",
        "outputId": "8f128222-cdcb-47ad-d580-9d0792faeb89"
      },
      "outputs": [
        {
          "name": "stdout",
          "output_type": "stream",
          "text": [
            "              precision    recall  f1-score   support\n",
            "\n",
            "           0       0.87      0.97      0.92      6737\n",
            "           1       0.98      0.94      0.96     15822\n",
            "\n",
            "    accuracy                           0.95     22559\n",
            "   macro avg       0.93      0.95      0.94     22559\n",
            "weighted avg       0.95      0.95      0.95     22559\n",
            "\n"
          ]
        }
      ],
      "source": [
        "model = LogisticRegression(random_state=0, n_jobs=-1, max_iter=100)\n",
        "model.fit(X[\"train\"], Y[\"train\"])\n",
        "\n",
        "Y_preds = model.predict(X[\"test\"])\n",
        "print(classification_report(Y[\"test\"], Y_preds))"
      ]
    }
  ],
  "metadata": {
    "colab": {
      "provenance": []
    },
    "kernelspec": {
      "display_name": "Python 3.9.5 ('base')",
      "language": "python",
      "name": "python3"
    },
    "language_info": {
      "name": "python",
      "version": "3.9.5"
    },
    "orig_nbformat": 4,
    "vscode": {
      "interpreter": {
        "hash": "34d2ae2012797dca4d79c11a1a7ff6d473285cf12047e136d2cb3fa4cfb42b2e"
      }
    }
  },
  "nbformat": 4,
  "nbformat_minor": 0
}

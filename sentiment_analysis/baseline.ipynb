{
 "cells": [
  {
   "cell_type": "code",
   "execution_count": 5,
   "metadata": {},
   "outputs": [
    {
     "name": "stdout",
     "output_type": "stream",
     "text": [
      "Defaulting to user installation because normal site-packages is not writeable\n",
      "Requirement already satisfied: distro in /usr/lib/python3/dist-packages (1.7.0)\n",
      "\n",
      "\u001b[1m[\u001b[0m\u001b[34;49mnotice\u001b[0m\u001b[1;39;49m]\u001b[0m\u001b[39;49m A new release of pip available: \u001b[0m\u001b[31;49m22.3.1\u001b[0m\u001b[39;49m -> \u001b[0m\u001b[32;49m23.0\u001b[0m\n",
      "\u001b[1m[\u001b[0m\u001b[34;49mnotice\u001b[0m\u001b[1;39;49m]\u001b[0m\u001b[39;49m To update, run: \u001b[0m\u001b[32;49m/usr/bin/python3 -m pip install --upgrade pip\u001b[0m\n"
     ]
    }
   ],
   "source": [
    "!pip install distro"
   ]
  },
  {
   "cell_type": "code",
   "execution_count": 6,
   "metadata": {},
   "outputs": [
    {
     "name": "stdout",
     "output_type": "stream",
     "text": [
      "Unexpected exception formatting exception. Falling back to standard exception\n"
     ]
    },
    {
     "name": "stderr",
     "output_type": "stream",
     "text": [
      "Traceback (most recent call last):\n",
      "  File \"/home/jujuba/.local/lib/python3.10/site-packages/autosklearn/util/dependencies.py\", line 39, in _verify_package\n",
      "    module_dist = pkg_resources.get_distribution(name)\n",
      "  File \"/home/jujuba/miniconda3/envs/nlp/lib/python3.10/site-packages/pkg_resources/__init__.py\", line 478, in get_distribution\n",
      "    dist = get_provider(dist)\n",
      "  File \"/home/jujuba/miniconda3/envs/nlp/lib/python3.10/site-packages/pkg_resources/__init__.py\", line 354, in get_provider\n",
      "    return working_set.find(moduleOrReq) or require(str(moduleOrReq))[0]\n",
      "  File \"/home/jujuba/miniconda3/envs/nlp/lib/python3.10/site-packages/pkg_resources/__init__.py\", line 909, in require\n",
      "    needed = self.resolve(parse_requirements(requirements))\n",
      "  File \"/home/jujuba/miniconda3/envs/nlp/lib/python3.10/site-packages/pkg_resources/__init__.py\", line 795, in resolve\n",
      "    raise DistributionNotFound(req, requirers)\n",
      "pkg_resources.DistributionNotFound: The 'distro' distribution was not found and is required by the application\n",
      "\n",
      "During handling of the above exception, another exception occurred:\n",
      "\n",
      "Traceback (most recent call last):\n",
      "  File \"/home/jujuba/.local/lib/python3.10/site-packages/autosklearn/util/dependencies.py\", line 43, in _verify_package\n",
      "    module = importlib.import_module(name)  # type: ignore\n",
      "  File \"/home/jujuba/miniconda3/envs/nlp/lib/python3.10/importlib/__init__.py\", line 126, in import_module\n",
      "    return _bootstrap._gcd_import(name[level:], package, level)\n",
      "  File \"<frozen importlib._bootstrap>\", line 1050, in _gcd_import\n",
      "  File \"<frozen importlib._bootstrap>\", line 1027, in _find_and_load\n",
      "  File \"<frozen importlib._bootstrap>\", line 1004, in _find_and_load_unlocked\n",
      "ModuleNotFoundError: No module named 'distro'\n",
      "\n",
      "During handling of the above exception, another exception occurred:\n",
      "\n",
      "Traceback (most recent call last):\n",
      "  File \"/home/jujuba/.local/lib/python3.10/site-packages/IPython/core/interactiveshell.py\", line 3460, in run_code\n",
      "    exec(code_obj, self.user_global_ns, self.user_ns)\n",
      "  File \"/tmp/ipykernel_1995/1292387464.py\", line 1, in <module>\n",
      "    from autosklearn.classification import AutoSklearnClassifier\n",
      "  File \"/home/jujuba/.local/lib/python3.10/site-packages/autosklearn/__init__.py\", line 13, in <module>\n",
      "    dependencies.verify_packages(requirements)\n",
      "  File \"/home/jujuba/.local/lib/python3.10/site-packages/autosklearn/util/dependencies.py\", line 30, in verify_packages\n",
      "    _verify_package(name, operation, version)\n",
      "  File \"/home/jujuba/.local/lib/python3.10/site-packages/autosklearn/util/dependencies.py\", line 46, in _verify_package\n",
      "    raise MissingPackageError(name)\n",
      "autosklearn.util.dependencies.MissingPackageError: Mandatory package 'distro' not found!\n",
      "\n",
      "During handling of the above exception, another exception occurred:\n",
      "\n",
      "Traceback (most recent call last):\n",
      "  File \"/home/jujuba/.local/lib/python3.10/site-packages/IPython/core/interactiveshell.py\", line 2057, in showtraceback\n",
      "    stb = self.InteractiveTB.structured_traceback(\n",
      "  File \"/home/jujuba/.local/lib/python3.10/site-packages/IPython/core/ultratb.py\", line 1118, in structured_traceback\n",
      "    return FormattedTB.structured_traceback(\n",
      "  File \"/home/jujuba/.local/lib/python3.10/site-packages/IPython/core/ultratb.py\", line 1012, in structured_traceback\n",
      "    return VerboseTB.structured_traceback(\n",
      "  File \"/home/jujuba/.local/lib/python3.10/site-packages/IPython/core/ultratb.py\", line 865, in structured_traceback\n",
      "    formatted_exception = self.format_exception_as_a_whole(etype, evalue, etb, number_of_lines_of_context,\n",
      "  File \"/home/jujuba/.local/lib/python3.10/site-packages/IPython/core/ultratb.py\", line 818, in format_exception_as_a_whole\n",
      "    frames.append(self.format_record(r))\n",
      "  File \"/home/jujuba/.local/lib/python3.10/site-packages/IPython/core/ultratb.py\", line 736, in format_record\n",
      "    result += ''.join(_format_traceback_lines(frame_info.lines, Colors, self.has_colors, lvals))\n",
      "  File \"/home/jujuba/.local/lib/python3.10/site-packages/stack_data/utils.py\", line 144, in cached_property_wrapper\n",
      "    value = obj.__dict__[self.func.__name__] = self.func(obj)\n",
      "  File \"/home/jujuba/.local/lib/python3.10/site-packages/stack_data/core.py\", line 734, in lines\n",
      "    pieces = self.included_pieces\n",
      "  File \"/home/jujuba/.local/lib/python3.10/site-packages/stack_data/utils.py\", line 144, in cached_property_wrapper\n",
      "    value = obj.__dict__[self.func.__name__] = self.func(obj)\n",
      "  File \"/home/jujuba/.local/lib/python3.10/site-packages/stack_data/core.py\", line 677, in included_pieces\n",
      "    scope_pieces = self.scope_pieces\n",
      "  File \"/home/jujuba/.local/lib/python3.10/site-packages/stack_data/utils.py\", line 144, in cached_property_wrapper\n",
      "    value = obj.__dict__[self.func.__name__] = self.func(obj)\n",
      "  File \"/home/jujuba/.local/lib/python3.10/site-packages/stack_data/core.py\", line 614, in scope_pieces\n",
      "    scope_start, scope_end = self.source.line_range(self.scope)\n",
      "  File \"/home/jujuba/.local/lib/python3.10/site-packages/stack_data/core.py\", line 178, in line_range\n",
      "    return line_range(self.asttext(), node)\n",
      "  File \"/home/jujuba/.local/lib/python3.10/site-packages/executing/executing.py\", line 428, in asttext\n",
      "    self._asttext = ASTText(self.text, tree=self.tree, filename=self.filename)\n",
      "  File \"/home/jujuba/.local/lib/python3.10/site-packages/asttokens/asttokens.py\", line 307, in __init__\n",
      "    super(ASTText, self).__init__(source_text, filename)\n",
      "  File \"/home/jujuba/.local/lib/python3.10/site-packages/asttokens/asttokens.py\", line 44, in __init__\n",
      "    source_text = six.ensure_text(source_text)\n",
      "AttributeError: module 'six' has no attribute 'ensure_text'\n"
     ]
    }
   ],
   "source": [
    "from autosklearn.classification import AutoSklearnClassifier\n",
    "from sklearn.metrics import classification_report\n",
    "import pandas as pd\n",
    "import sklearn\n",
    "\n",
    "DATA_PATH = \"b2w/dataset\""
   ]
  },
  {
   "cell_type": "code",
   "execution_count": null,
   "metadata": {},
   "outputs": [],
   "source": [
    "data = dict()\n",
    "for split in [\"train\", \"test\"]:\n",
    "    data[split] = pd.read_csv(os.path.append(DATA_PATH, f\"{split}_sa.csv\"))"
   ]
  },
  {
   "cell_type": "code",
   "execution_count": null,
   "metadata": {},
   "outputs": [],
   "source": [
    "embedder = TfidfVectorizer(preprocessor=preprocess_sentence)\n",
    "embedder.fit_transform(data[\"train\"][\"review\"])"
   ]
  },
  {
   "cell_type": "code",
   "execution_count": null,
   "metadata": {},
   "outputs": [],
   "source": [
    "X, Y = dict(), dict()\n",
    "for split in [\"train\", \"test\"]: \n",
    "    X[split] = embedder.encode(data[split][\"review\"])\n",
    "    Y[split] = data[\"rating\"]"
   ]
  },
  {
   "cell_type": "code",
   "execution_count": null,
   "metadata": {},
   "outputs": [],
   "source": [
    "print(automl.leaderboard())"
   ]
  },
  {
   "cell_type": "code",
   "execution_count": null,
   "metadata": {},
   "outputs": [],
   "source": [
    "automl = AutoSklearnClassifier(n_jobs=12,  metric=autosklearn.metrics.f1)\n",
    "automl.fit(X[\"train\"], Y[\"train\"])autosklearn.metrics.f1\n",
    "y_hat = automl.predict(X[\"test\"])\n",
    "\n",
    "print(classification_report(Y[\"test\"], y_hat))"
   ]
  },
  {
   "cell_type": "code",
   "execution_count": null,
   "metadata": {},
   "outputs": [],
   "source": [
    "    poT = cls.performance_over_time_\n",
    "    poT.plot(\n",
    "        x=\"Timestamp\",\n",
    "        kind=\"line\",\n",
    "        legend=True,\n",
    "        title=\"Auto-sklearn accuracy over time\",\n",
    "        grid=True,\n",
    "    )\n",
    "    plt.show()"
   ]
  }
 ],
 "metadata": {
  "kernelspec": {
   "display_name": "Python 3 (ipykernel)",
   "language": "python",
   "name": "python3"
  },
  "orig_nbformat": 4
 },
 "nbformat": 4,
 "nbformat_minor": 2
}

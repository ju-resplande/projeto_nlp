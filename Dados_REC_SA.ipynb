{
  "nbformat": 4,
  "nbformat_minor": 0,
  "metadata": {
    "colab": {
      "provenance": [],
      "include_colab_link": true
    },
    "kernelspec": {
      "name": "python3",
      "display_name": "Python 3"
    },
    "language_info": {
      "name": "python"
    },
    "widgets": {
      "application/vnd.jupyter.widget-state+json": {
        "3686f9a53f7a489686f7e8b833ce17ba": {
          "model_module": "@jupyter-widgets/controls",
          "model_name": "HBoxModel",
          "model_module_version": "1.5.0",
          "state": {
            "_dom_classes": [],
            "_model_module": "@jupyter-widgets/controls",
            "_model_module_version": "1.5.0",
            "_model_name": "HBoxModel",
            "_view_count": null,
            "_view_module": "@jupyter-widgets/controls",
            "_view_module_version": "1.5.0",
            "_view_name": "HBoxView",
            "box_style": "",
            "children": [
              "IPY_MODEL_75e200c34dd249bcbdc717db21242cf0",
              "IPY_MODEL_bcd62958eb7e40f9aabbc3a7c9da8aeb",
              "IPY_MODEL_ee510e850e0b4d7a9c43b33ae45d0492"
            ],
            "layout": "IPY_MODEL_f540378fd2fa4921859c05f4d891b0ba"
          }
        },
        "75e200c34dd249bcbdc717db21242cf0": {
          "model_module": "@jupyter-widgets/controls",
          "model_name": "HTMLModel",
          "model_module_version": "1.5.0",
          "state": {
            "_dom_classes": [],
            "_model_module": "@jupyter-widgets/controls",
            "_model_module_version": "1.5.0",
            "_model_name": "HTMLModel",
            "_view_count": null,
            "_view_module": "@jupyter-widgets/controls",
            "_view_module_version": "1.5.0",
            "_view_name": "HTMLView",
            "description": "",
            "description_tooltip": null,
            "layout": "IPY_MODEL_e2741f66340e43ab9c47bbb789b549cb",
            "placeholder": "​",
            "style": "IPY_MODEL_4d1aab3097ac4756a757da52b15301c1",
            "value": "100%"
          }
        },
        "bcd62958eb7e40f9aabbc3a7c9da8aeb": {
          "model_module": "@jupyter-widgets/controls",
          "model_name": "FloatProgressModel",
          "model_module_version": "1.5.0",
          "state": {
            "_dom_classes": [],
            "_model_module": "@jupyter-widgets/controls",
            "_model_module_version": "1.5.0",
            "_model_name": "FloatProgressModel",
            "_view_count": null,
            "_view_module": "@jupyter-widgets/controls",
            "_view_module_version": "1.5.0",
            "_view_name": "ProgressView",
            "bar_style": "success",
            "description": "",
            "description_tooltip": null,
            "layout": "IPY_MODEL_0fb5ac714f004f34b3ddbdd55c1fe794",
            "max": 1,
            "min": 0,
            "orientation": "horizontal",
            "style": "IPY_MODEL_5aa99d81dfa94c0b8dae2c7d851928d0",
            "value": 1
          }
        },
        "ee510e850e0b4d7a9c43b33ae45d0492": {
          "model_module": "@jupyter-widgets/controls",
          "model_name": "HTMLModel",
          "model_module_version": "1.5.0",
          "state": {
            "_dom_classes": [],
            "_model_module": "@jupyter-widgets/controls",
            "_model_module_version": "1.5.0",
            "_model_name": "HTMLModel",
            "_view_count": null,
            "_view_module": "@jupyter-widgets/controls",
            "_view_module_version": "1.5.0",
            "_view_name": "HTMLView",
            "description": "",
            "description_tooltip": null,
            "layout": "IPY_MODEL_d4a40397b1d341e6b6bb87c4a8b29a09",
            "placeholder": "​",
            "style": "IPY_MODEL_c13d5de2e2c44c1c8c6b50c72e3989b1",
            "value": " 1/1 [00:00&lt;00:00, 16.19it/s]"
          }
        },
        "f540378fd2fa4921859c05f4d891b0ba": {
          "model_module": "@jupyter-widgets/base",
          "model_name": "LayoutModel",
          "model_module_version": "1.2.0",
          "state": {
            "_model_module": "@jupyter-widgets/base",
            "_model_module_version": "1.2.0",
            "_model_name": "LayoutModel",
            "_view_count": null,
            "_view_module": "@jupyter-widgets/base",
            "_view_module_version": "1.2.0",
            "_view_name": "LayoutView",
            "align_content": null,
            "align_items": null,
            "align_self": null,
            "border": null,
            "bottom": null,
            "display": null,
            "flex": null,
            "flex_flow": null,
            "grid_area": null,
            "grid_auto_columns": null,
            "grid_auto_flow": null,
            "grid_auto_rows": null,
            "grid_column": null,
            "grid_gap": null,
            "grid_row": null,
            "grid_template_areas": null,
            "grid_template_columns": null,
            "grid_template_rows": null,
            "height": null,
            "justify_content": null,
            "justify_items": null,
            "left": null,
            "margin": null,
            "max_height": null,
            "max_width": null,
            "min_height": null,
            "min_width": null,
            "object_fit": null,
            "object_position": null,
            "order": null,
            "overflow": null,
            "overflow_x": null,
            "overflow_y": null,
            "padding": null,
            "right": null,
            "top": null,
            "visibility": null,
            "width": null
          }
        },
        "e2741f66340e43ab9c47bbb789b549cb": {
          "model_module": "@jupyter-widgets/base",
          "model_name": "LayoutModel",
          "model_module_version": "1.2.0",
          "state": {
            "_model_module": "@jupyter-widgets/base",
            "_model_module_version": "1.2.0",
            "_model_name": "LayoutModel",
            "_view_count": null,
            "_view_module": "@jupyter-widgets/base",
            "_view_module_version": "1.2.0",
            "_view_name": "LayoutView",
            "align_content": null,
            "align_items": null,
            "align_self": null,
            "border": null,
            "bottom": null,
            "display": null,
            "flex": null,
            "flex_flow": null,
            "grid_area": null,
            "grid_auto_columns": null,
            "grid_auto_flow": null,
            "grid_auto_rows": null,
            "grid_column": null,
            "grid_gap": null,
            "grid_row": null,
            "grid_template_areas": null,
            "grid_template_columns": null,
            "grid_template_rows": null,
            "height": null,
            "justify_content": null,
            "justify_items": null,
            "left": null,
            "margin": null,
            "max_height": null,
            "max_width": null,
            "min_height": null,
            "min_width": null,
            "object_fit": null,
            "object_position": null,
            "order": null,
            "overflow": null,
            "overflow_x": null,
            "overflow_y": null,
            "padding": null,
            "right": null,
            "top": null,
            "visibility": null,
            "width": null
          }
        },
        "4d1aab3097ac4756a757da52b15301c1": {
          "model_module": "@jupyter-widgets/controls",
          "model_name": "DescriptionStyleModel",
          "model_module_version": "1.5.0",
          "state": {
            "_model_module": "@jupyter-widgets/controls",
            "_model_module_version": "1.5.0",
            "_model_name": "DescriptionStyleModel",
            "_view_count": null,
            "_view_module": "@jupyter-widgets/base",
            "_view_module_version": "1.2.0",
            "_view_name": "StyleView",
            "description_width": ""
          }
        },
        "0fb5ac714f004f34b3ddbdd55c1fe794": {
          "model_module": "@jupyter-widgets/base",
          "model_name": "LayoutModel",
          "model_module_version": "1.2.0",
          "state": {
            "_model_module": "@jupyter-widgets/base",
            "_model_module_version": "1.2.0",
            "_model_name": "LayoutModel",
            "_view_count": null,
            "_view_module": "@jupyter-widgets/base",
            "_view_module_version": "1.2.0",
            "_view_name": "LayoutView",
            "align_content": null,
            "align_items": null,
            "align_self": null,
            "border": null,
            "bottom": null,
            "display": null,
            "flex": null,
            "flex_flow": null,
            "grid_area": null,
            "grid_auto_columns": null,
            "grid_auto_flow": null,
            "grid_auto_rows": null,
            "grid_column": null,
            "grid_gap": null,
            "grid_row": null,
            "grid_template_areas": null,
            "grid_template_columns": null,
            "grid_template_rows": null,
            "height": null,
            "justify_content": null,
            "justify_items": null,
            "left": null,
            "margin": null,
            "max_height": null,
            "max_width": null,
            "min_height": null,
            "min_width": null,
            "object_fit": null,
            "object_position": null,
            "order": null,
            "overflow": null,
            "overflow_x": null,
            "overflow_y": null,
            "padding": null,
            "right": null,
            "top": null,
            "visibility": null,
            "width": null
          }
        },
        "5aa99d81dfa94c0b8dae2c7d851928d0": {
          "model_module": "@jupyter-widgets/controls",
          "model_name": "ProgressStyleModel",
          "model_module_version": "1.5.0",
          "state": {
            "_model_module": "@jupyter-widgets/controls",
            "_model_module_version": "1.5.0",
            "_model_name": "ProgressStyleModel",
            "_view_count": null,
            "_view_module": "@jupyter-widgets/base",
            "_view_module_version": "1.2.0",
            "_view_name": "StyleView",
            "bar_color": null,
            "description_width": ""
          }
        },
        "d4a40397b1d341e6b6bb87c4a8b29a09": {
          "model_module": "@jupyter-widgets/base",
          "model_name": "LayoutModel",
          "model_module_version": "1.2.0",
          "state": {
            "_model_module": "@jupyter-widgets/base",
            "_model_module_version": "1.2.0",
            "_model_name": "LayoutModel",
            "_view_count": null,
            "_view_module": "@jupyter-widgets/base",
            "_view_module_version": "1.2.0",
            "_view_name": "LayoutView",
            "align_content": null,
            "align_items": null,
            "align_self": null,
            "border": null,
            "bottom": null,
            "display": null,
            "flex": null,
            "flex_flow": null,
            "grid_area": null,
            "grid_auto_columns": null,
            "grid_auto_flow": null,
            "grid_auto_rows": null,
            "grid_column": null,
            "grid_gap": null,
            "grid_row": null,
            "grid_template_areas": null,
            "grid_template_columns": null,
            "grid_template_rows": null,
            "height": null,
            "justify_content": null,
            "justify_items": null,
            "left": null,
            "margin": null,
            "max_height": null,
            "max_width": null,
            "min_height": null,
            "min_width": null,
            "object_fit": null,
            "object_position": null,
            "order": null,
            "overflow": null,
            "overflow_x": null,
            "overflow_y": null,
            "padding": null,
            "right": null,
            "top": null,
            "visibility": null,
            "width": null
          }
        },
        "c13d5de2e2c44c1c8c6b50c72e3989b1": {
          "model_module": "@jupyter-widgets/controls",
          "model_name": "DescriptionStyleModel",
          "model_module_version": "1.5.0",
          "state": {
            "_model_module": "@jupyter-widgets/controls",
            "_model_module_version": "1.5.0",
            "_model_name": "DescriptionStyleModel",
            "_view_count": null,
            "_view_module": "@jupyter-widgets/base",
            "_view_module_version": "1.2.0",
            "_view_name": "StyleView",
            "description_width": ""
          }
        }
      }
    }
  },
  "cells": [
    {
      "cell_type": "markdown",
      "metadata": {
        "id": "view-in-github",
        "colab_type": "text"
      },
      "source": [
        "<a href=\"https://colab.research.google.com/github/ju-resplande/projeto_nlp/blob/main/Dados_REC_SA.ipynb\" target=\"_parent\"><img src=\"https://colab.research.google.com/assets/colab-badge.svg\" alt=\"Open In Colab\"/></a>"
      ]
    },
    {
      "cell_type": "markdown",
      "source": [
        "## Obtendo Dataset"
      ],
      "metadata": {
        "id": "6dAMZVFxTD3h"
      }
    },
    {
      "cell_type": "code",
      "execution_count": 1,
      "metadata": {
        "id": "oxSr0TCz3bir",
        "colab": {
          "base_uri": "https://localhost:8080/"
        },
        "outputId": "a89a3f32-ba7a-4b3d-b86e-ad036fc19797"
      },
      "outputs": [
        {
          "output_type": "stream",
          "name": "stdout",
          "text": [
            "Looking in indexes: https://pypi.org/simple, https://us-python.pkg.dev/colab-wheels/public/simple/\n",
            "Requirement already satisfied: datasets in /usr/local/lib/python3.8/dist-packages (2.9.0)\n",
            "Requirement already satisfied: ydata-profiling in /usr/local/lib/python3.8/dist-packages (4.0.0)\n",
            "Requirement already satisfied: responses<0.19 in /usr/local/lib/python3.8/dist-packages (from datasets) (0.18.0)\n",
            "Requirement already satisfied: pandas in /usr/local/lib/python3.8/dist-packages (from datasets) (1.3.5)\n",
            "Requirement already satisfied: pyarrow>=6.0.0 in /usr/local/lib/python3.8/dist-packages (from datasets) (9.0.0)\n",
            "Requirement already satisfied: xxhash in /usr/local/lib/python3.8/dist-packages (from datasets) (3.2.0)\n",
            "Requirement already satisfied: huggingface-hub<1.0.0,>=0.2.0 in /usr/local/lib/python3.8/dist-packages (from datasets) (0.12.0)\n",
            "Requirement already satisfied: multiprocess in /usr/local/lib/python3.8/dist-packages (from datasets) (0.70.14)\n",
            "Requirement already satisfied: fsspec[http]>=2021.11.1 in /usr/local/lib/python3.8/dist-packages (from datasets) (2023.1.0)\n",
            "Requirement already satisfied: dill<0.3.7 in /usr/local/lib/python3.8/dist-packages (from datasets) (0.3.6)\n",
            "Requirement already satisfied: requests>=2.19.0 in /usr/local/lib/python3.8/dist-packages (from datasets) (2.25.1)\n",
            "Requirement already satisfied: packaging in /usr/local/lib/python3.8/dist-packages (from datasets) (23.0)\n",
            "Requirement already satisfied: pyyaml>=5.1 in /usr/local/lib/python3.8/dist-packages (from datasets) (6.0)\n",
            "Requirement already satisfied: tqdm>=4.62.1 in /usr/local/lib/python3.8/dist-packages (from datasets) (4.64.1)\n",
            "Requirement already satisfied: numpy>=1.17 in /usr/local/lib/python3.8/dist-packages (from datasets) (1.21.6)\n",
            "Requirement already satisfied: aiohttp in /usr/local/lib/python3.8/dist-packages (from datasets) (3.8.3)\n",
            "Requirement already satisfied: seaborn<0.13,>=0.10.1 in /usr/local/lib/python3.8/dist-packages (from ydata-profiling) (0.11.2)\n",
            "Requirement already satisfied: jinja2<3.2,>=2.11.1 in /usr/local/lib/python3.8/dist-packages (from ydata-profiling) (2.11.3)\n",
            "Requirement already satisfied: htmlmin==0.1.12 in /usr/local/lib/python3.8/dist-packages (from ydata-profiling) (0.1.12)\n",
            "Requirement already satisfied: matplotlib<3.7,>=3.2 in /usr/local/lib/python3.8/dist-packages (from ydata-profiling) (3.2.2)\n",
            "Requirement already satisfied: visions[type_image_path]==0.7.5 in /usr/local/lib/python3.8/dist-packages (from ydata-profiling) (0.7.5)\n",
            "Requirement already satisfied: scipy<1.10,>=1.4.1 in /usr/local/lib/python3.8/dist-packages (from ydata-profiling) (1.7.3)\n",
            "Requirement already satisfied: multimethod<1.10,>=1.4 in /usr/local/lib/python3.8/dist-packages (from ydata-profiling) (1.9.1)\n",
            "Requirement already satisfied: pydantic<1.11,>=1.8.1 in /usr/local/lib/python3.8/dist-packages (from ydata-profiling) (1.10.4)\n",
            "Requirement already satisfied: typeguard<2.14,>=2.13.2 in /usr/local/lib/python3.8/dist-packages (from ydata-profiling) (2.13.3)\n",
            "Requirement already satisfied: phik<0.13,>=0.11.1 in /usr/local/lib/python3.8/dist-packages (from ydata-profiling) (0.12.3)\n",
            "Requirement already satisfied: statsmodels<0.14,>=0.13.2 in /usr/local/lib/python3.8/dist-packages (from ydata-profiling) (0.13.5)\n",
            "Requirement already satisfied: attrs>=19.3.0 in /usr/local/lib/python3.8/dist-packages (from visions[type_image_path]==0.7.5->ydata-profiling) (22.2.0)\n",
            "Requirement already satisfied: tangled-up-in-unicode>=0.0.4 in /usr/local/lib/python3.8/dist-packages (from visions[type_image_path]==0.7.5->ydata-profiling) (0.2.0)\n",
            "Requirement already satisfied: networkx>=2.4 in /usr/local/lib/python3.8/dist-packages (from visions[type_image_path]==0.7.5->ydata-profiling) (3.0)\n",
            "Requirement already satisfied: Pillow in /usr/local/lib/python3.8/dist-packages (from visions[type_image_path]==0.7.5->ydata-profiling) (7.1.2)\n",
            "Requirement already satisfied: imagehash in /usr/local/lib/python3.8/dist-packages (from visions[type_image_path]==0.7.5->ydata-profiling) (4.3.1)\n",
            "Requirement already satisfied: frozenlist>=1.1.1 in /usr/local/lib/python3.8/dist-packages (from aiohttp->datasets) (1.3.3)\n",
            "Requirement already satisfied: charset-normalizer<3.0,>=2.0 in /usr/local/lib/python3.8/dist-packages (from aiohttp->datasets) (2.1.1)\n",
            "Requirement already satisfied: async-timeout<5.0,>=4.0.0a3 in /usr/local/lib/python3.8/dist-packages (from aiohttp->datasets) (4.0.2)\n",
            "Requirement already satisfied: yarl<2.0,>=1.0 in /usr/local/lib/python3.8/dist-packages (from aiohttp->datasets) (1.8.2)\n",
            "Requirement already satisfied: aiosignal>=1.1.2 in /usr/local/lib/python3.8/dist-packages (from aiohttp->datasets) (1.3.1)\n",
            "Requirement already satisfied: multidict<7.0,>=4.5 in /usr/local/lib/python3.8/dist-packages (from aiohttp->datasets) (6.0.4)\n",
            "Requirement already satisfied: filelock in /usr/local/lib/python3.8/dist-packages (from huggingface-hub<1.0.0,>=0.2.0->datasets) (3.9.0)\n",
            "Requirement already satisfied: typing-extensions>=3.7.4.3 in /usr/local/lib/python3.8/dist-packages (from huggingface-hub<1.0.0,>=0.2.0->datasets) (4.4.0)\n",
            "Requirement already satisfied: MarkupSafe>=0.23 in /usr/local/lib/python3.8/dist-packages (from jinja2<3.2,>=2.11.1->ydata-profiling) (2.0.1)\n",
            "Requirement already satisfied: pyparsing!=2.0.4,!=2.1.2,!=2.1.6,>=2.0.1 in /usr/local/lib/python3.8/dist-packages (from matplotlib<3.7,>=3.2->ydata-profiling) (3.0.9)\n",
            "Requirement already satisfied: python-dateutil>=2.1 in /usr/local/lib/python3.8/dist-packages (from matplotlib<3.7,>=3.2->ydata-profiling) (2.8.2)\n",
            "Requirement already satisfied: kiwisolver>=1.0.1 in /usr/local/lib/python3.8/dist-packages (from matplotlib<3.7,>=3.2->ydata-profiling) (1.4.4)\n",
            "Requirement already satisfied: cycler>=0.10 in /usr/local/lib/python3.8/dist-packages (from matplotlib<3.7,>=3.2->ydata-profiling) (0.11.0)\n",
            "Requirement already satisfied: pytz>=2017.3 in /usr/local/lib/python3.8/dist-packages (from pandas->datasets) (2022.7.1)\n",
            "Requirement already satisfied: joblib>=0.14.1 in /usr/local/lib/python3.8/dist-packages (from phik<0.13,>=0.11.1->ydata-profiling) (1.2.0)\n",
            "Requirement already satisfied: urllib3<1.27,>=1.21.1 in /usr/local/lib/python3.8/dist-packages (from requests>=2.19.0->datasets) (1.26.14)\n",
            "Requirement already satisfied: idna<3,>=2.5 in /usr/local/lib/python3.8/dist-packages (from requests>=2.19.0->datasets) (2.10)\n",
            "Requirement already satisfied: certifi>=2017.4.17 in /usr/local/lib/python3.8/dist-packages (from requests>=2.19.0->datasets) (2022.12.7)\n",
            "Requirement already satisfied: chardet<5,>=3.0.2 in /usr/local/lib/python3.8/dist-packages (from requests>=2.19.0->datasets) (4.0.0)\n",
            "Requirement already satisfied: patsy>=0.5.2 in /usr/local/lib/python3.8/dist-packages (from statsmodels<0.14,>=0.13.2->ydata-profiling) (0.5.3)\n",
            "Requirement already satisfied: six in /usr/local/lib/python3.8/dist-packages (from patsy>=0.5.2->statsmodels<0.14,>=0.13.2->ydata-profiling) (1.15.0)\n",
            "Requirement already satisfied: PyWavelets in /usr/local/lib/python3.8/dist-packages (from imagehash->visions[type_image_path]==0.7.5->ydata-profiling) (1.4.1)\n"
          ]
        }
      ],
      "source": [
        "!pip install datasets ydata-profiling"
      ]
    },
    {
      "cell_type": "code",
      "source": [
        "from datasets import load_dataset\n",
        "import missingno as msno\n",
        "from ydata_profiling import ProfileReport\n",
        "import pandas as pd\n",
        "from sklearn.model_selection import train_test_split\n",
        "import numpy as np\n",
        "import random"
      ],
      "metadata": {
        "id": "8uD22PXi3d2U"
      },
      "execution_count": 2,
      "outputs": []
    },
    {
      "cell_type": "code",
      "source": [
        "SEED = 42\n",
        "\n",
        "random.seed(SEED)\n",
        "np.random.seed(SEED)"
      ],
      "metadata": {
        "id": "KxJAAqib1Tyh"
      },
      "execution_count": 3,
      "outputs": []
    },
    {
      "cell_type": "code",
      "source": [
        "data = load_dataset(\"ruanchaves/b2w-reviews01\")"
      ],
      "metadata": {
        "colab": {
          "base_uri": "https://localhost:8080/",
          "height": 86,
          "referenced_widgets": [
            "3686f9a53f7a489686f7e8b833ce17ba",
            "75e200c34dd249bcbdc717db21242cf0",
            "bcd62958eb7e40f9aabbc3a7c9da8aeb",
            "ee510e850e0b4d7a9c43b33ae45d0492",
            "f540378fd2fa4921859c05f4d891b0ba",
            "e2741f66340e43ab9c47bbb789b549cb",
            "4d1aab3097ac4756a757da52b15301c1",
            "0fb5ac714f004f34b3ddbdd55c1fe794",
            "5aa99d81dfa94c0b8dae2c7d851928d0",
            "d4a40397b1d341e6b6bb87c4a8b29a09",
            "c13d5de2e2c44c1c8c6b50c72e3989b1"
          ]
        },
        "id": "ntODggAR2HPK",
        "outputId": "8a52e719-2bcb-4d9c-9860-a48f835fa4b4"
      },
      "execution_count": 4,
      "outputs": [
        {
          "output_type": "stream",
          "name": "stderr",
          "text": [
            "WARNING:datasets.builder:Found cached dataset b2w-reviews01 (/root/.cache/huggingface/datasets/ruanchaves___b2w-reviews01/default/1.0.0/414dce7ecb4a1d15781c59f850c2abb5f36dca77358f366349c56501c50ba38d)\n"
          ]
        },
        {
          "output_type": "display_data",
          "data": {
            "text/plain": [
              "  0%|          | 0/1 [00:00<?, ?it/s]"
            ],
            "application/vnd.jupyter.widget-view+json": {
              "version_major": 2,
              "version_minor": 0,
              "model_id": "3686f9a53f7a489686f7e8b833ce17ba"
            }
          },
          "metadata": {}
        }
      ]
    },
    {
      "cell_type": "code",
      "source": [
        "print(data.keys())"
      ],
      "metadata": {
        "colab": {
          "base_uri": "https://localhost:8080/"
        },
        "id": "tMrNm3Br2lOS",
        "outputId": "a9cc9d33-e7f6-43a1-d771-4643b14a7b3f"
      },
      "execution_count": 5,
      "outputs": [
        {
          "output_type": "stream",
          "name": "stdout",
          "text": [
            "dict_keys(['train'])\n"
          ]
        }
      ]
    },
    {
      "cell_type": "code",
      "source": [
        "df = data['train'].to_pandas()"
      ],
      "metadata": {
        "id": "JWgfXwEB3Djk"
      },
      "execution_count": 6,
      "outputs": []
    },
    {
      "cell_type": "code",
      "source": [
        "df.info()"
      ],
      "metadata": {
        "colab": {
          "base_uri": "https://localhost:8080/"
        },
        "id": "_9Slohog5M7l",
        "outputId": "1796c5f2-cf97-4223-e5fb-c660a0500b03"
      },
      "execution_count": 7,
      "outputs": [
        {
          "output_type": "stream",
          "name": "stdout",
          "text": [
            "<class 'pandas.core.frame.DataFrame'>\n",
            "RangeIndex: 132373 entries, 0 to 132372\n",
            "Data columns (total 14 columns):\n",
            " #   Column                 Non-Null Count   Dtype  \n",
            "---  ------                 --------------   -----  \n",
            " 0   submission_date        132373 non-null  object \n",
            " 1   reviewer_id            132373 non-null  object \n",
            " 2   product_id             132373 non-null  object \n",
            " 3   product_name           132289 non-null  object \n",
            " 4   product_brand          40982 non-null   object \n",
            " 5   site_category_lv1      132367 non-null  object \n",
            " 6   site_category_lv2      128360 non-null  object \n",
            " 7   review_title           132071 non-null  object \n",
            " 8   overall_rating         132373 non-null  int32  \n",
            " 9   recommend_to_a_friend  132355 non-null  object \n",
            " 10  review_text            129098 non-null  object \n",
            " 11  reviewer_birth_year    126389 non-null  float64\n",
            " 12  reviewer_gender        128237 non-null  object \n",
            " 13  reviewer_state         128382 non-null  object \n",
            "dtypes: float64(1), int32(1), object(12)\n",
            "memory usage: 13.6+ MB\n"
          ]
        }
      ]
    },
    {
      "cell_type": "code",
      "source": [
        "#Dimensões\n",
        "print(\"Nº de colunas: \", len(df.columns))\n",
        "print(\"Nº de Linhas: \", len(df.axes[0]))"
      ],
      "metadata": {
        "colab": {
          "base_uri": "https://localhost:8080/"
        },
        "id": "kG-82w4W34Tg",
        "outputId": "3f42b04a-ac15-4d32-8dec-ea57ba6a222e"
      },
      "execution_count": 8,
      "outputs": [
        {
          "output_type": "stream",
          "name": "stdout",
          "text": [
            "Nº de colunas:  14\n",
            "Nº de Linhas:  132373\n"
          ]
        }
      ]
    },
    {
      "cell_type": "code",
      "source": [
        "#Informação\n",
        "print(\"Nome das colunas: \")\n",
        "for i in df.columns:\n",
        "  print(i)"
      ],
      "metadata": {
        "colab": {
          "base_uri": "https://localhost:8080/"
        },
        "id": "MdjMB6Eo4qYa",
        "outputId": "a293c77d-887d-4694-be0a-4fa965c778a8"
      },
      "execution_count": 9,
      "outputs": [
        {
          "output_type": "stream",
          "name": "stdout",
          "text": [
            "Nome das colunas: \n",
            "submission_date\n",
            "reviewer_id\n",
            "product_id\n",
            "product_name\n",
            "product_brand\n",
            "site_category_lv1\n",
            "site_category_lv2\n",
            "review_title\n",
            "overall_rating\n",
            "recommend_to_a_friend\n",
            "review_text\n",
            "reviewer_birth_year\n",
            "reviewer_gender\n",
            "reviewer_state\n"
          ]
        }
      ]
    },
    {
      "cell_type": "markdown",
      "source": [
        "## Breve Explicação sobre o dataset:\n",
        "\n",
        "Este dataset \"b2w-reviews01\" é um conjunto de avaliações de produtos da **B2W (Americanas)**, uma empresa de comércio eletrônico na América Latina.\n",
        "\n",
        "- \"**submission_date**\": Data em que a avaliação foi submetida;\n",
        "- \"**reviewer_id**\": Id da avaliação;\n",
        "- \"**product_id**\": Id do produto;\n",
        "- \"**product_name**\": Nome do produto avaliado;\n",
        "- \"**product_brand**\": Marca do produto;\n",
        "- \"**site_category_lv1**\": Categoria do produto nível 1 (mais genérico) dentro do site da Americanas;\n",
        "- \"**site_category_lv2**\": Categoria do produto nível 2 (mais específico) dentro do site da Americanas;\n",
        "- \"**review_title**\": Título da avaliação;\n",
        "- \"**overall_rating**\": Classificação dada pelo avaliador, com uma escala de 1 a 5 estrelas;\n",
        "- \"**recommend_to_a_friend**\": Se o Avaliador recomendaria pra um amigo (sim ou não)\n",
        "- \"**review_text**\": Texto/corpo da avaliação;\n",
        "-  \"**reviewer_birth_year**\": Ano de nascimento do avaliador;\n",
        "- \"**reviewer_gender**\": Gênero ao qual o avaliador se identifica;\n",
        "- \"**reviewer_state**\": Estado onde o avaliador reside.\n"
      ],
      "metadata": {
        "id": "hHode82f5xn7"
      }
    },
    {
      "cell_type": "code",
      "source": [
        "#Visão de um sample de 1000 linhas, sobre o quanto de dados estão faltando\n",
        "msno.matrix(df.sample(1000))"
      ],
      "metadata": {
        "colab": {
          "base_uri": "https://localhost:8080/",
          "height": 577
        },
        "id": "I3SI7i6h5wdZ",
        "outputId": "1b7fb9f6-772c-4632-c7bd-1c29b453b6fb"
      },
      "execution_count": 10,
      "outputs": [
        {
          "output_type": "execute_result",
          "data": {
            "text/plain": [
              "<matplotlib.axes._subplots.AxesSubplot at 0x7f9531a4b610>"
            ]
          },
          "metadata": {},
          "execution_count": 10
        },
        {
          "output_type": "display_data",
          "data": {
            "text/plain": [
              "<Figure size 1800x720 with 2 Axes>"
            ],
            "image/png": "[encoded data removed]"
          },
          "metadata": {
            "needs_background": "light"
          }
        }
      ]
    },
    {
      "cell_type": "code",
      "source": [
        "#Visão de um sample de 65000 linhas (50%), sobre o quanto de dados estão faltando\n",
        "msno.matrix(df.sample(65000))"
      ],
      "metadata": {
        "colab": {
          "base_uri": "https://localhost:8080/",
          "height": 573
        },
        "id": "xNPDtCpfF1V8",
        "outputId": "417b1bf5-9fad-4097-9279-3f78c5b97cd8"
      },
      "execution_count": 11,
      "outputs": [
        {
          "output_type": "execute_result",
          "data": {
            "text/plain": [
              "<matplotlib.axes._subplots.AxesSubplot at 0x7f952d026070>"
            ]
          },
          "metadata": {},
          "execution_count": 11
        },
        {
          "output_type": "display_data",
          "data": {
            "text/plain": [
              "<Figure size 1800x720 with 2 Axes>"
            ],
            "image/png": "[encoded data removed]"
          },
          "metadata": {
            "needs_background": "light"
          }
        }
      ]
    },
    {
      "cell_type": "code",
      "source": [
        "#Visão de um sample de 132327 linhas (100%), sobre o quanto de dados estão faltando\n",
        "msno.matrix(df)"
      ],
      "metadata": {
        "colab": {
          "base_uri": "https://localhost:8080/",
          "height": 569
        },
        "id": "3mPUGERkGERl",
        "outputId": "22b7ba4e-d620-4381-abc5-f2298ab9acb5"
      },
      "execution_count": 12,
      "outputs": [
        {
          "output_type": "execute_result",
          "data": {
            "text/plain": [
              "<matplotlib.axes._subplots.AxesSubplot at 0x7f952cf963d0>"
            ]
          },
          "metadata": {},
          "execution_count": 12
        },
        {
          "output_type": "display_data",
          "data": {
            "text/plain": [
              "<Figure size 1800x720 with 2 Axes>"
            ],
            "image/png": "[encoded data removed]"
          },
          "metadata": {
            "needs_background": "light"
          }
        }
      ]
    },
    {
      "cell_type": "code",
      "source": [
        "#ProfileReport(df)"
      ],
      "metadata": {
        "id": "XEjG69BI_Tf8"
      },
      "execution_count": 13,
      "outputs": []
    },
    {
      "cell_type": "markdown",
      "source": [
        "## Tratamento Geral dos Dados\n"
      ],
      "metadata": {
        "id": "iNQYgoe1IaZ-"
      }
    },
    {
      "cell_type": "markdown",
      "source": [
        "### Excluindo as avaliações de valor 3 (rating = 3)"
      ],
      "metadata": {
        "id": "A39wpcePpcGA"
      }
    },
    {
      "cell_type": "code",
      "source": [
        "#df= df[df['overall_rating'] != 3]"
      ],
      "metadata": {
        "id": "Bp7DY-s_o0e6"
      },
      "execution_count": 14,
      "outputs": []
    },
    {
      "cell_type": "code",
      "source": [
        "df['overall_rating'].value_counts()"
      ],
      "metadata": {
        "colab": {
          "base_uri": "https://localhost:8080/"
        },
        "id": "r3oTa2vWqxhU",
        "outputId": "9562874a-3a57-4aca-bcc4-513e52674903"
      },
      "execution_count": 15,
      "outputs": [
        {
          "output_type": "execute_result",
          "data": {
            "text/plain": [
              "5    47955\n",
              "4    32345\n",
              "1    27369\n",
              "3    16315\n",
              "2     8389\n",
              "Name: overall_rating, dtype: int64"
            ]
          },
          "metadata": {},
          "execution_count": 15
        }
      ]
    },
    {
      "cell_type": "markdown",
      "source": [
        "### Junção da Coluna de Título + Corpo da Reviewer"
      ],
      "metadata": {
        "id": "AfjJl5hWxzz0"
      }
    },
    {
      "cell_type": "code",
      "source": [
        "df['review'] = df['review_title'] + '\\n' + df['review_text']"
      ],
      "metadata": {
        "id": "eO-Bx_uVyGsh"
      },
      "execution_count": 16,
      "outputs": []
    },
    {
      "cell_type": "markdown",
      "source": [
        "### Criação da coluna Tamanho da Avaliação (com base apenas no corpo da Avaliação)"
      ],
      "metadata": {
        "id": "yRB-wbj0yUfb"
      }
    },
    {
      "cell_type": "code",
      "source": [
        "tamanhos=[]\n",
        "for i in df['review_text']:\n",
        "  if i is None:\n",
        "    tamanhos.append(0)\n",
        "  else:\n",
        "    tamanhos.append(len(i))\n"
      ],
      "metadata": {
        "id": "0YO-rGLoyTx7"
      },
      "execution_count": 17,
      "outputs": []
    },
    {
      "cell_type": "code",
      "source": [
        "df['len_review_text'] = tamanhos"
      ],
      "metadata": {
        "id": "liKn-Rz4yqm-"
      },
      "execution_count": 18,
      "outputs": []
    },
    {
      "cell_type": "code",
      "source": [
        "df.sort_values(by=\"len_review_text\",ascending=True)"
      ],
      "metadata": {
        "colab": {
          "base_uri": "https://localhost:8080/",
          "height": 1000
        },
        "id": "2WgLawqWywmu",
        "outputId": "63abf3c8-5045-4007-e6a7-b923c0f1695f"
      },
      "execution_count": 19,
      "outputs": [
        {
          "output_type": "execute_result",
          "data": {
            "text/plain": [
              "            submission_date  \\\n",
              "126053  2018-05-22 18:13:14   \n",
              "56089   2018-03-11 14:32:48   \n",
              "56092   2018-03-11 14:41:20   \n",
              "87175   2018-04-11 21:32:23   \n",
              "25423   2018-01-20 07:09:28   \n",
              "...                     ...   \n",
              "131513  2018-05-30 11:18:05   \n",
              "119571  2018-05-15 09:07:19   \n",
              "119572  2018-05-15 09:07:19   \n",
              "41017   2018-02-21 13:10:06   \n",
              "106209  2018-05-01 13:19:30   \n",
              "\n",
              "                                              reviewer_id product_id  \\\n",
              "126053  6acf256aaa518971fbf0c4da059102b795607264b5b651...   14262532   \n",
              "56089   cd497c213cb14992a09a76c5408ad6ea56bfba9ebd9d77...   27780410   \n",
              "56092   cd497c213cb14992a09a76c5408ad6ea56bfba9ebd9d77...   10520202   \n",
              "87175   84f9ef7bdd0db1e3779818830a82239a7b8ba749c86891...   25307454   \n",
              "25423   0d91ee4af408eaec5a8200b5dc718a2c317be679b1a3c7...   16086982   \n",
              "...                                                   ...        ...   \n",
              "131513  28bb47c48db40656794cf727637781e9c7e45bd2ea2403...   20797761   \n",
              "119571  88878f4c3008f1d3129fd70138ceaa43ba1d7b148026b8...   18831067   \n",
              "119572  88878f4c3008f1d3129fd70138ceaa43ba1d7b148026b8...   18831067   \n",
              "41017   e853f5eb346e5be47c017c68651645802ca5ca9b0f45c3...   29621951   \n",
              "106209  def516a71eb08e5b66525139bcf4fc35b818031d0e5e33...   32243280   \n",
              "\n",
              "                                             product_name product_brand  \\\n",
              "126053  Celular Ipro I3200 Dual Chip Desbloqueado Pret...          None   \n",
              "56089                        Funko Pop! Deadpool - Marvel          None   \n",
              "56092        Spider-Man / Homem-Aranha - Funko Pop Marvel          None   \n",
              "87175                           Painel Gama Branco Brilho          None   \n",
              "25423   Prancha Nano Titanium Babyliss Pro Degrade Op ...          None   \n",
              "...                                                   ...           ...   \n",
              "131513  Rack com Painel para TV até 55 Polegadas Twin ...          None   \n",
              "119571  Controle Joystick Bluetooth Ipega Pg9025 Para ...          None   \n",
              "119572  Controle Joystick Bluetooth Ipega Pg9025 Para ...          None   \n",
              "41017   Iphone 6s Plus Tela 5.5” IOS 9 16GB Câmera 12M...          None   \n",
              "106209    Mesa Digitalizadora One by Wacom CTL472 Pequena          None   \n",
              "\n",
              "               site_category_lv1       site_category_lv2  \\\n",
              "126053   Celulares e Smartphones                 Celular   \n",
              "56089                 Brinquedos                 Bonecos   \n",
              "56092                 Brinquedos                 Bonecos   \n",
              "87175                     Móveis  Rack, Estante e Painel   \n",
              "25423        Beleza e Perfumaria                  Cabelo   \n",
              "...                          ...                     ...   \n",
              "131513                    Móveis  Rack, Estante e Painel   \n",
              "119571   Celulares e Smartphones                    None   \n",
              "119572   Celulares e Smartphones                    None   \n",
              "41017    Celulares e Smartphones              Smartphone   \n",
              "106209  Informática e Acessórios             Periféricos   \n",
              "\n",
              "                                             review_title  overall_rating  \\\n",
              "126053  nem recedbi o produto, como posso avaliar algo...               1   \n",
              "56089                                        compra total               4   \n",
              "56092                                         storegamers               4   \n",
              "87175                                                Ruim               1   \n",
              "25423    Melhor prancha que existe para fazer progressiva               5   \n",
              "...                                                   ...             ...   \n",
              "131513                                      Não recomendo               1   \n",
              "119571                           PRODUTO AINDA NÃO CHEGOU               1   \n",
              "119572                           PRODUTO AINDA NÃO CHEGOU               1   \n",
              "41017              gostei muito pena que não tem desconto               3   \n",
              "106209               goistei muiotto e muuictot boajnzxao               5   \n",
              "\n",
              "       recommend_to_a_friend  \\\n",
              "126053                    No   \n",
              "56089                    Yes   \n",
              "56092                    Yes   \n",
              "87175                     No   \n",
              "25423                    Yes   \n",
              "...                      ...   \n",
              "131513                    No   \n",
              "119571                    No   \n",
              "119572                    No   \n",
              "41017                    Yes   \n",
              "106209                   Yes   \n",
              "\n",
              "                                              review_text  \\\n",
              "126053                                               None   \n",
              "56089                                                None   \n",
              "56092                                                None   \n",
              "87175                                                None   \n",
              "25423                                                None   \n",
              "...                                                   ...   \n",
              "131513  Porque não recomendo este produto:  1) O produ...   \n",
              "119571  PRODUTO AINDA NÃO CHEGOU PRODUTO AINDA NÃO CHE...   \n",
              "119572  PRODUTO AINDA NÃO CHEGOU PRODUTO AINDA NÃO CHE...   \n",
              "41017   pena que não tem desconto  pena que não tem de...   \n",
              "106209  ele e whrgeyretr36ryt3r3bh3irj3uy4rur3ir5irhgr...   \n",
              "\n",
              "        reviewer_birth_year reviewer_gender reviewer_state  \\\n",
              "126053               1982.0               F             RJ   \n",
              "56089                   NaN               M             SP   \n",
              "56092                   NaN               M             SP   \n",
              "87175                1964.0               F             SP   \n",
              "25423                1972.0               F             SP   \n",
              "...                     ...             ...            ...   \n",
              "131513               1988.0               M             SP   \n",
              "119571               1990.0               M             RR   \n",
              "119572               1990.0               M             RR   \n",
              "41017                2001.0               M             SP   \n",
              "106209                  NaN            None           None   \n",
              "\n",
              "                                                   review  len_review_text  \n",
              "126053                                                NaN                0  \n",
              "56089                                                 NaN                0  \n",
              "56092                                                 NaN                0  \n",
              "87175                                                 NaN                0  \n",
              "25423                                                 NaN                0  \n",
              "...                                                   ...              ...  \n",
              "131513  Não recomendo\\nPorque não recomendo este produ...             3119  \n",
              "119571  PRODUTO AINDA NÃO CHEGOU\\nPRODUTO AINDA NÃO CH...             3924  \n",
              "119572  PRODUTO AINDA NÃO CHEGOU\\nPRODUTO AINDA NÃO CH...             3924  \n",
              "41017   gostei muito pena que não tem desconto\\npena q...             4134  \n",
              "106209  goistei muiotto e muuictot boajnzxao\\nele e wh...             4548  \n",
              "\n",
              "[132373 rows x 16 columns]"
            ],
            "text/html": [
              "\n",
              "  <div id=\"df-88695da2-e621-4c79-bf7c-4e8fb389ff01\">\n",
              "    <div class=\"colab-df-container\">\n",
              "      <div>\n",
              "<style scoped>\n",
              "    .dataframe tbody tr th:only-of-type {\n",
              "        vertical-align: middle;\n",
              "    }\n",
              "\n",
              "    .dataframe tbody tr th {\n",
              "        vertical-align: top;\n",
              "    }\n",
              "\n",
              "    .dataframe thead th {\n",
              "        text-align: right;\n",
              "    }\n",
              "</style>\n",
              "<table border=\"1\" class=\"dataframe\">\n",
              "  <thead>\n",
              "    <tr style=\"text-align: right;\">\n",
              "      <th></th>\n",
              "      <th>submission_date</th>\n",
              "      <th>reviewer_id</th>\n",
              "      <th>product_id</th>\n",
              "      <th>product_name</th>\n",
              "      <th>product_brand</th>\n",
              "      <th>site_category_lv1</th>\n",
              "      <th>site_category_lv2</th>\n",
              "      <th>review_title</th>\n",
              "      <th>overall_rating</th>\n",
              "      <th>recommend_to_a_friend</th>\n",
              "      <th>review_text</th>\n",
              "      <th>reviewer_birth_year</th>\n",
              "      <th>reviewer_gender</th>\n",
              "      <th>reviewer_state</th>\n",
              "      <th>review</th>\n",
              "      <th>len_review_text</th>\n",
              "    </tr>\n",
              "  </thead>\n",
              "  <tbody>\n",
              "    <tr>\n",
              "      <th>126053</th>\n",
              "      <td>2018-05-22 18:13:14</td>\n",
              "      <td>6acf256aaa518971fbf0c4da059102b795607264b5b651...</td>\n",
              "      <td>14262532</td>\n",
              "      <td>Celular Ipro I3200 Dual Chip Desbloqueado Pret...</td>\n",
              "      <td>None</td>\n",
              "      <td>Celulares e Smartphones</td>\n",
              "      <td>Celular</td>\n",
              "      <td>nem recedbi o produto, como posso avaliar algo...</td>\n",
              "      <td>1</td>\n",
              "      <td>No</td>\n",
              "      <td>None</td>\n",
              "      <td>1982.0</td>\n",
              "      <td>F</td>\n",
              "      <td>RJ</td>\n",
              "      <td>NaN</td>\n",
              "      <td>0</td>\n",
              "    </tr>\n",
              "    <tr>\n",
              "      <th>56089</th>\n",
              "      <td>2018-03-11 14:32:48</td>\n",
              "      <td>cd497c213cb14992a09a76c5408ad6ea56bfba9ebd9d77...</td>\n",
              "      <td>27780410</td>\n",
              "      <td>Funko Pop! Deadpool - Marvel</td>\n",
              "      <td>None</td>\n",
              "      <td>Brinquedos</td>\n",
              "      <td>Bonecos</td>\n",
              "      <td>compra total</td>\n",
              "      <td>4</td>\n",
              "      <td>Yes</td>\n",
              "      <td>None</td>\n",
              "      <td>NaN</td>\n",
              "      <td>M</td>\n",
              "      <td>SP</td>\n",
              "      <td>NaN</td>\n",
              "      <td>0</td>\n",
              "    </tr>\n",
              "    <tr>\n",
              "      <th>56092</th>\n",
              "      <td>2018-03-11 14:41:20</td>\n",
              "      <td>cd497c213cb14992a09a76c5408ad6ea56bfba9ebd9d77...</td>\n",
              "      <td>10520202</td>\n",
              "      <td>Spider-Man / Homem-Aranha - Funko Pop Marvel</td>\n",
              "      <td>None</td>\n",
              "      <td>Brinquedos</td>\n",
              "      <td>Bonecos</td>\n",
              "      <td>storegamers</td>\n",
              "      <td>4</td>\n",
              "      <td>Yes</td>\n",
              "      <td>None</td>\n",
              "      <td>NaN</td>\n",
              "      <td>M</td>\n",
              "      <td>SP</td>\n",
              "      <td>NaN</td>\n",
              "      <td>0</td>\n",
              "    </tr>\n",
              "    <tr>\n",
              "      <th>87175</th>\n",
              "      <td>2018-04-11 21:32:23</td>\n",
              "      <td>84f9ef7bdd0db1e3779818830a82239a7b8ba749c86891...</td>\n",
              "      <td>25307454</td>\n",
              "      <td>Painel Gama Branco Brilho</td>\n",
              "      <td>None</td>\n",
              "      <td>Móveis</td>\n",
              "      <td>Rack, Estante e Painel</td>\n",
              "      <td>Ruim</td>\n",
              "      <td>1</td>\n",
              "      <td>No</td>\n",
              "      <td>None</td>\n",
              "      <td>1964.0</td>\n",
              "      <td>F</td>\n",
              "      <td>SP</td>\n",
              "      <td>NaN</td>\n",
              "      <td>0</td>\n",
              "    </tr>\n",
              "    <tr>\n",
              "      <th>25423</th>\n",
              "      <td>2018-01-20 07:09:28</td>\n",
              "      <td>0d91ee4af408eaec5a8200b5dc718a2c317be679b1a3c7...</td>\n",
              "      <td>16086982</td>\n",
              "      <td>Prancha Nano Titanium Babyliss Pro Degrade Op ...</td>\n",
              "      <td>None</td>\n",
              "      <td>Beleza e Perfumaria</td>\n",
              "      <td>Cabelo</td>\n",
              "      <td>Melhor prancha que existe para fazer progressiva</td>\n",
              "      <td>5</td>\n",
              "      <td>Yes</td>\n",
              "      <td>None</td>\n",
              "      <td>1972.0</td>\n",
              "      <td>F</td>\n",
              "      <td>SP</td>\n",
              "      <td>NaN</td>\n",
              "      <td>0</td>\n",
              "    </tr>\n",
              "    <tr>\n",
              "      <th>...</th>\n",
              "      <td>...</td>\n",
              "      <td>...</td>\n",
              "      <td>...</td>\n",
              "      <td>...</td>\n",
              "      <td>...</td>\n",
              "      <td>...</td>\n",
              "      <td>...</td>\n",
              "      <td>...</td>\n",
              "      <td>...</td>\n",
              "      <td>...</td>\n",
              "      <td>...</td>\n",
              "      <td>...</td>\n",
              "      <td>...</td>\n",
              "      <td>...</td>\n",
              "      <td>...</td>\n",
              "      <td>...</td>\n",
              "    </tr>\n",
              "    <tr>\n",
              "      <th>131513</th>\n",
              "      <td>2018-05-30 11:18:05</td>\n",
              "      <td>28bb47c48db40656794cf727637781e9c7e45bd2ea2403...</td>\n",
              "      <td>20797761</td>\n",
              "      <td>Rack com Painel para TV até 55 Polegadas Twin ...</td>\n",
              "      <td>None</td>\n",
              "      <td>Móveis</td>\n",
              "      <td>Rack, Estante e Painel</td>\n",
              "      <td>Não recomendo</td>\n",
              "      <td>1</td>\n",
              "      <td>No</td>\n",
              "      <td>Porque não recomendo este produto:  1) O produ...</td>\n",
              "      <td>1988.0</td>\n",
              "      <td>M</td>\n",
              "      <td>SP</td>\n",
              "      <td>Não recomendo\\nPorque não recomendo este produ...</td>\n",
              "      <td>3119</td>\n",
              "    </tr>\n",
              "    <tr>\n",
              "      <th>119571</th>\n",
              "      <td>2018-05-15 09:07:19</td>\n",
              "      <td>88878f4c3008f1d3129fd70138ceaa43ba1d7b148026b8...</td>\n",
              "      <td>18831067</td>\n",
              "      <td>Controle Joystick Bluetooth Ipega Pg9025 Para ...</td>\n",
              "      <td>None</td>\n",
              "      <td>Celulares e Smartphones</td>\n",
              "      <td>None</td>\n",
              "      <td>PRODUTO AINDA NÃO CHEGOU</td>\n",
              "      <td>1</td>\n",
              "      <td>No</td>\n",
              "      <td>PRODUTO AINDA NÃO CHEGOU PRODUTO AINDA NÃO CHE...</td>\n",
              "      <td>1990.0</td>\n",
              "      <td>M</td>\n",
              "      <td>RR</td>\n",
              "      <td>PRODUTO AINDA NÃO CHEGOU\\nPRODUTO AINDA NÃO CH...</td>\n",
              "      <td>3924</td>\n",
              "    </tr>\n",
              "    <tr>\n",
              "      <th>119572</th>\n",
              "      <td>2018-05-15 09:07:19</td>\n",
              "      <td>88878f4c3008f1d3129fd70138ceaa43ba1d7b148026b8...</td>\n",
              "      <td>18831067</td>\n",
              "      <td>Controle Joystick Bluetooth Ipega Pg9025 Para ...</td>\n",
              "      <td>None</td>\n",
              "      <td>Celulares e Smartphones</td>\n",
              "      <td>None</td>\n",
              "      <td>PRODUTO AINDA NÃO CHEGOU</td>\n",
              "      <td>1</td>\n",
              "      <td>No</td>\n",
              "      <td>PRODUTO AINDA NÃO CHEGOU PRODUTO AINDA NÃO CHE...</td>\n",
              "      <td>1990.0</td>\n",
              "      <td>M</td>\n",
              "      <td>RR</td>\n",
              "      <td>PRODUTO AINDA NÃO CHEGOU\\nPRODUTO AINDA NÃO CH...</td>\n",
              "      <td>3924</td>\n",
              "    </tr>\n",
              "    <tr>\n",
              "      <th>41017</th>\n",
              "      <td>2018-02-21 13:10:06</td>\n",
              "      <td>e853f5eb346e5be47c017c68651645802ca5ca9b0f45c3...</td>\n",
              "      <td>29621951</td>\n",
              "      <td>Iphone 6s Plus Tela 5.5” IOS 9 16GB Câmera 12M...</td>\n",
              "      <td>None</td>\n",
              "      <td>Celulares e Smartphones</td>\n",
              "      <td>Smartphone</td>\n",
              "      <td>gostei muito pena que não tem desconto</td>\n",
              "      <td>3</td>\n",
              "      <td>Yes</td>\n",
              "      <td>pena que não tem desconto  pena que não tem de...</td>\n",
              "      <td>2001.0</td>\n",
              "      <td>M</td>\n",
              "      <td>SP</td>\n",
              "      <td>gostei muito pena que não tem desconto\\npena q...</td>\n",
              "      <td>4134</td>\n",
              "    </tr>\n",
              "    <tr>\n",
              "      <th>106209</th>\n",
              "      <td>2018-05-01 13:19:30</td>\n",
              "      <td>def516a71eb08e5b66525139bcf4fc35b818031d0e5e33...</td>\n",
              "      <td>32243280</td>\n",
              "      <td>Mesa Digitalizadora One by Wacom CTL472 Pequena</td>\n",
              "      <td>None</td>\n",
              "      <td>Informática e Acessórios</td>\n",
              "      <td>Periféricos</td>\n",
              "      <td>goistei muiotto e muuictot boajnzxao</td>\n",
              "      <td>5</td>\n",
              "      <td>Yes</td>\n",
              "      <td>ele e whrgeyretr36ryt3r3bh3irj3uy4rur3ir5irhgr...</td>\n",
              "      <td>NaN</td>\n",
              "      <td>None</td>\n",
              "      <td>None</td>\n",
              "      <td>goistei muiotto e muuictot boajnzxao\\nele e wh...</td>\n",
              "      <td>4548</td>\n",
              "    </tr>\n",
              "  </tbody>\n",
              "</table>\n",
              "<p>132373 rows × 16 columns</p>\n",
              "</div>\n",
              "      <button class=\"colab-df-convert\" onclick=\"convertToInteractive('df-88695da2-e621-4c79-bf7c-4e8fb389ff01')\"\n",
              "              title=\"Convert this dataframe to an interactive table.\"\n",
              "              style=\"display:none;\">\n",
              "        \n",
              "  <svg xmlns=\"http://www.w3.org/2000/svg\" height=\"24px\"viewBox=\"0 0 24 24\"\n",
              "       width=\"24px\">\n",
              "    <path d=\"M0 0h24v24H0V0z\" fill=\"none\"/>\n",
              "    <path d=\"M18.56 5.44l.94 2.06.94-2.06 2.06-.94-2.06-.94-.94-2.06-.94 2.06-2.06.94zm-11 1L8.5 8.5l.94-2.06 2.06-.94-2.06-.94L8.5 2.5l-.94 2.06-2.06.94zm10 10l.94 2.06.94-2.06 2.06-.94-2.06-.94-.94-2.06-.94 2.06-2.06.94z\"/><path d=\"M17.41 7.96l-1.37-1.37c-.4-.4-.92-.59-1.43-.59-.52 0-1.04.2-1.43.59L10.3 9.45l-7.72 7.72c-.78.78-.78 2.05 0 2.83L4 21.41c.39.39.9.59 1.41.59.51 0 1.02-.2 1.41-.59l7.78-7.78 2.81-2.81c.8-.78.8-2.07 0-2.86zM5.41 20L4 18.59l7.72-7.72 1.47 1.35L5.41 20z\"/>\n",
              "  </svg>\n",
              "      </button>\n",
              "      \n",
              "  <style>\n",
              "    .colab-df-container {\n",
              "      display:flex;\n",
              "      flex-wrap:wrap;\n",
              "      gap: 12px;\n",
              "    }\n",
              "\n",
              "    .colab-df-convert {\n",
              "      background-color: #E8F0FE;\n",
              "      border: none;\n",
              "      border-radius: 50%;\n",
              "      cursor: pointer;\n",
              "      display: none;\n",
              "      fill: #1967D2;\n",
              "      height: 32px;\n",
              "      padding: 0 0 0 0;\n",
              "      width: 32px;\n",
              "    }\n",
              "\n",
              "    .colab-df-convert:hover {\n",
              "      background-color: #E2EBFA;\n",
              "      box-shadow: 0px 1px 2px rgba(60, 64, 67, 0.3), 0px 1px 3px 1px rgba(60, 64, 67, 0.15);\n",
              "      fill: #174EA6;\n",
              "    }\n",
              "\n",
              "    [theme=dark] .colab-df-convert {\n",
              "      background-color: #3B4455;\n",
              "      fill: #D2E3FC;\n",
              "    }\n",
              "\n",
              "    [theme=dark] .colab-df-convert:hover {\n",
              "      background-color: #434B5C;\n",
              "      box-shadow: 0px 1px 3px 1px rgba(0, 0, 0, 0.15);\n",
              "      filter: drop-shadow(0px 1px 2px rgba(0, 0, 0, 0.3));\n",
              "      fill: #FFFFFF;\n",
              "    }\n",
              "  </style>\n",
              "\n",
              "      <script>\n",
              "        const buttonEl =\n",
              "          document.querySelector('#df-88695da2-e621-4c79-bf7c-4e8fb389ff01 button.colab-df-convert');\n",
              "        buttonEl.style.display =\n",
              "          google.colab.kernel.accessAllowed ? 'block' : 'none';\n",
              "\n",
              "        async function convertToInteractive(key) {\n",
              "          const element = document.querySelector('#df-88695da2-e621-4c79-bf7c-4e8fb389ff01');\n",
              "          const dataTable =\n",
              "            await google.colab.kernel.invokeFunction('convertToInteractive',\n",
              "                                                     [key], {});\n",
              "          if (!dataTable) return;\n",
              "\n",
              "          const docLinkHtml = 'Like what you see? Visit the ' +\n",
              "            '<a target=\"_blank\" href=https://colab.research.google.com/notebooks/data_table.ipynb>data table notebook</a>'\n",
              "            + ' to learn more about interactive tables.';\n",
              "          element.innerHTML = '';\n",
              "          dataTable['output_type'] = 'display_data';\n",
              "          await google.colab.output.renderOutput(dataTable, element);\n",
              "          const docLink = document.createElement('div');\n",
              "          docLink.innerHTML = docLinkHtml;\n",
              "          element.appendChild(docLink);\n",
              "        }\n",
              "      </script>\n",
              "    </div>\n",
              "  </div>\n",
              "  "
            ]
          },
          "metadata": {},
          "execution_count": 19
        }
      ]
    },
    {
      "cell_type": "markdown",
      "source": [
        "### Criando as classes ( divisão dos dados em bom ou ruim [1 ou 0]) "
      ],
      "metadata": {
        "id": "ondssvSKuCKS"
      }
    },
    {
      "cell_type": "code",
      "source": [
        "condicoes=[\n",
        "     (df['overall_rating']<=2),\n",
        "     (df['overall_rating']==3),\n",
        "     (df['overall_rating']>=4)\n",
        " ]\n",
        "classes=[-1,0,1]"
      ],
      "metadata": {
        "id": "tbQYlZkNOXSh"
      },
      "execution_count": 20,
      "outputs": []
    },
    {
      "cell_type": "code",
      "source": [
        "df['rating']=np.select(condicoes,classes)"
      ],
      "metadata": {
        "id": "Sdb-rDXJPGCm"
      },
      "execution_count": 21,
      "outputs": []
    },
    {
      "cell_type": "code",
      "source": [
        "df['rating'].value_counts()"
      ],
      "metadata": {
        "colab": {
          "base_uri": "https://localhost:8080/"
        },
        "id": "gmMqrkKVPzkb",
        "outputId": "bcf53fba-ff23-4114-dacf-7f938ba84e8f"
      },
      "execution_count": 22,
      "outputs": [
        {
          "output_type": "execute_result",
          "data": {
            "text/plain": [
              " 1    80300\n",
              "-1    35758\n",
              " 0    16315\n",
              "Name: rating, dtype: int64"
            ]
          },
          "metadata": {},
          "execution_count": 22
        }
      ]
    },
    {
      "cell_type": "code",
      "source": [
        "#df['rating']=(df['overall_rating']>=4).astype(int)"
      ],
      "metadata": {
        "id": "dgV-nMTisBkp"
      },
      "execution_count": 23,
      "outputs": []
    },
    {
      "cell_type": "code",
      "source": [
        "df['rating'].value_counts()"
      ],
      "metadata": {
        "colab": {
          "base_uri": "https://localhost:8080/"
        },
        "id": "aghNLXrDsU-P",
        "outputId": "a28bb918-f12e-41a8-8be0-8ea1452e006f"
      },
      "execution_count": 24,
      "outputs": [
        {
          "output_type": "execute_result",
          "data": {
            "text/plain": [
              " 1    80300\n",
              "-1    35758\n",
              " 0    16315\n",
              "Name: rating, dtype: int64"
            ]
          },
          "metadata": {},
          "execution_count": 24
        }
      ]
    },
    {
      "cell_type": "markdown",
      "source": [
        "### Exclusão das colunas não necessárias"
      ],
      "metadata": {
        "id": "YPbEG4FYJxFX"
      }
    },
    {
      "cell_type": "code",
      "source": [
        "df = df.drop(['product_brand', 'reviewer_birth_year','reviewer_gender','reviewer_state','site_category_lv2'], axis=1)"
      ],
      "metadata": {
        "id": "2ZdXVJ54uO_0"
      },
      "execution_count": 25,
      "outputs": []
    },
    {
      "cell_type": "code",
      "source": [
        "msno.matrix(df.sample(65000))"
      ],
      "metadata": {
        "colab": {
          "base_uri": "https://localhost:8080/",
          "height": 573
        },
        "id": "0WoIX-gXvXrR",
        "outputId": "27f2dc50-687b-4dec-d0fa-4566311d483e"
      },
      "execution_count": 26,
      "outputs": [
        {
          "output_type": "execute_result",
          "data": {
            "text/plain": [
              "<matplotlib.axes._subplots.AxesSubplot at 0x7f952c505040>"
            ]
          },
          "metadata": {},
          "execution_count": 26
        },
        {
          "output_type": "display_data",
          "data": {
            "text/plain": [
              "<Figure size 1800x720 with 2 Axes>"
            ],
            "image/png": "[encoded data removed]"
          },
          "metadata": {
            "needs_background": "light"
          }
        }
      ]
    },
    {
      "cell_type": "markdown",
      "source": [
        "Como ainda existem valores faltantes, agora iremos retirar as linhas correspondentes"
      ],
      "metadata": {
        "id": "_p3kgJG8v14O"
      }
    },
    {
      "cell_type": "markdown",
      "source": [
        "### Excluindo linhas que possuem valores faltantes (em qualquer coluna)"
      ],
      "metadata": {
        "id": "KrJSaM9kwC4b"
      }
    },
    {
      "cell_type": "code",
      "source": [
        "colunas = df.columns\n",
        "for i in colunas:\n",
        "  df = df[df[i].notna()]"
      ],
      "metadata": {
        "id": "hnwNHt3Qv94c"
      },
      "execution_count": 27,
      "outputs": []
    },
    {
      "cell_type": "code",
      "source": [
        "df['rating'].value_counts() #existe um desbalanceamento aqui"
      ],
      "metadata": {
        "colab": {
          "base_uri": "https://localhost:8080/"
        },
        "id": "LOC-ily5wPLJ",
        "outputId": "db0a2b79-6be7-4222-9bbc-a4d3ca768ae6"
      },
      "execution_count": 28,
      "outputs": [
        {
          "output_type": "execute_result",
          "data": {
            "text/plain": [
              " 1    79120\n",
              "-1    33689\n",
              " 0    15974\n",
              "Name: rating, dtype: int64"
            ]
          },
          "metadata": {},
          "execution_count": 28
        }
      ]
    },
    {
      "cell_type": "code",
      "source": [
        "msno.matrix(df.sample(65000))"
      ],
      "metadata": {
        "colab": {
          "base_uri": "https://localhost:8080/",
          "height": 573
        },
        "id": "FI6Fay8_wWoo",
        "outputId": "c7124937-0aad-423e-9a25-1961528047f1"
      },
      "execution_count": 29,
      "outputs": [
        {
          "output_type": "execute_result",
          "data": {
            "text/plain": [
              "<matplotlib.axes._subplots.AxesSubplot at 0x7f953f8bc460>"
            ]
          },
          "metadata": {},
          "execution_count": 29
        },
        {
          "output_type": "display_data",
          "data": {
            "text/plain": [
              "<Figure size 1800x720 with 2 Axes>"
            ],
            "image/png": "[encoded data removed]"
          },
          "metadata": {
            "needs_background": "light"
          }
        }
      ]
    },
    {
      "cell_type": "markdown",
      "source": [
        "### Fazendo o Balanceamento dos dados\n",
        "- Neste caso foi feito o Down-Sample"
      ],
      "metadata": {
        "id": "nD6VpWaaOAG6"
      }
    },
    {
      "cell_type": "code",
      "source": [
        "#g = df.groupby('rating')\n",
        "#df_down_sample =g.apply(lambda x: x.sample(g.size().min(), random_state=SEED).reset_index(drop=True))\n",
        "#df_down_sample['rating'].value_counts()\n"
      ],
      "metadata": {
        "id": "ULW9UE2lxxK3"
      },
      "execution_count": 30,
      "outputs": []
    },
    {
      "cell_type": "markdown",
      "source": [
        "Apenas conferi se realmente estavam balanceados"
      ],
      "metadata": {
        "id": "PPXRFvX1OWe7"
      }
    },
    {
      "cell_type": "code",
      "source": [
        "#count=0\n",
        "#for i in df_down_sample['rating']:\n",
        "#  if i ==1:\n",
        "#    count+=1\n",
        "#print(count)"
      ],
      "metadata": {
        "id": "7xx1Ah6MyTaw"
      },
      "execution_count": 31,
      "outputs": []
    },
    {
      "cell_type": "markdown",
      "source": [
        "### Separando Dataset em Teste (20% geral) e Treino (80% do geral)"
      ],
      "metadata": {
        "id": "yiLxNFpkOdVc"
      }
    },
    {
      "cell_type": "code",
      "source": [
        "#x_train,x_test,y_train,y_test=train_test_split(df_down_sample,df_down_sample['rating'],test_size=0.2)\n",
        "df_train, df_test = train_test_split(df, test_size=0.2, random_state=SEED)"
      ],
      "metadata": {
        "id": "p_l9yU-Ay1an"
      },
      "execution_count": 32,
      "outputs": []
    },
    {
      "cell_type": "markdown",
      "source": [
        "Apenas conferindo a persistência do balanceamento"
      ],
      "metadata": {
        "id": "yuRzIhL_OscS"
      }
    },
    {
      "cell_type": "code",
      "source": [
        "df_test['rating'].value_counts()"
      ],
      "metadata": {
        "colab": {
          "base_uri": "https://localhost:8080/"
        },
        "id": "oSFfb1OtLcTy",
        "outputId": "73867e1b-17a8-4c99-8cb2-05f864518a93"
      },
      "execution_count": 33,
      "outputs": [
        {
          "output_type": "execute_result",
          "data": {
            "text/plain": [
              " 1    15822\n",
              "-1     6737\n",
              " 0     3198\n",
              "Name: rating, dtype: int64"
            ]
          },
          "metadata": {},
          "execution_count": 33
        }
      ]
    },
    {
      "cell_type": "code",
      "source": [
        "df_test.to_csv('test.csv', index=False)\n",
        "df_test[df_test['rating'] != 0].to_csv('test_sa.csv', index=False)"
      ],
      "metadata": {
        "id": "1GFF_opFAh8v"
      },
      "execution_count": 57,
      "outputs": []
    },
    {
      "cell_type": "code",
      "source": [
        "df_train['rating'].value_counts()"
      ],
      "metadata": {
        "colab": {
          "base_uri": "https://localhost:8080/"
        },
        "id": "IhIltq2nMy1-",
        "outputId": "b8472da1-a5b3-404b-d3d9-d8fd43d7e938"
      },
      "execution_count": 35,
      "outputs": [
        {
          "output_type": "execute_result",
          "data": {
            "text/plain": [
              " 1    63298\n",
              "-1    26952\n",
              " 0    12776\n",
              "Name: rating, dtype: int64"
            ]
          },
          "metadata": {},
          "execution_count": 35
        }
      ]
    },
    {
      "cell_type": "markdown",
      "source": [
        "### Dividindo o dataset de treino em Duas partes ( SA e REC)"
      ],
      "metadata": {
        "id": "31jy35yhO0N0"
      }
    },
    {
      "cell_type": "code",
      "source": [
        "df_train_SA, df_train_REC = train_test_split(df_train, test_size=0.5, random_state=SEED)"
      ],
      "metadata": {
        "id": "O26DXQV2M-UV"
      },
      "execution_count": 36,
      "outputs": []
    },
    {
      "cell_type": "code",
      "source": [
        "df_train_REC = pd.concat((df_train_SA[df_train_SA['rating'] == 0], df_train_REC))\n",
        "df_train_SA = df_train_SA[df_train_SA['rating'] != 0]"
      ],
      "metadata": {
        "id": "R6jBujlKEzFx"
      },
      "execution_count": 37,
      "outputs": []
    },
    {
      "cell_type": "markdown",
      "source": [
        "Confirmando que o balanceamento entre as duas classes permanece"
      ],
      "metadata": {
        "id": "R-UpPc5fO-Zp"
      }
    },
    {
      "cell_type": "code",
      "source": [
        "df_train_SA['rating'].value_counts()"
      ],
      "metadata": {
        "colab": {
          "base_uri": "https://localhost:8080/"
        },
        "id": "Ikt1gZRPNXDi",
        "outputId": "e7aff91d-47b2-4e24-c500-9d6d69f2b62a"
      },
      "execution_count": 38,
      "outputs": [
        {
          "output_type": "execute_result",
          "data": {
            "text/plain": [
              " 1    31654\n",
              "-1    13536\n",
              "Name: rating, dtype: int64"
            ]
          },
          "metadata": {},
          "execution_count": 38
        }
      ]
    },
    {
      "cell_type": "code",
      "source": [
        "df_train_REC['rating'].value_counts()"
      ],
      "metadata": {
        "colab": {
          "base_uri": "https://localhost:8080/"
        },
        "id": "jQk2uZ0xNZlu",
        "outputId": "6492db4e-7754-4781-cd2d-7baee961e171"
      },
      "execution_count": 39,
      "outputs": [
        {
          "output_type": "execute_result",
          "data": {
            "text/plain": [
              " 1    31644\n",
              "-1    13416\n",
              " 0    12776\n",
              "Name: rating, dtype: int64"
            ]
          },
          "metadata": {},
          "execution_count": 39
        }
      ]
    },
    {
      "cell_type": "code",
      "source": [
        "#df2 = df[['reviewer_id','product_id','review_title','review_text','product_name','site_category_lv1', 'overall_rating']]"
      ],
      "metadata": {
        "id": "v8ut2iktJwce"
      },
      "execution_count": 40,
      "outputs": []
    },
    {
      "cell_type": "markdown",
      "source": [
        "## Tratamento dos dados para SA"
      ],
      "metadata": {
        "id": "3mSHtQ4zSyoi"
      }
    },
    {
      "cell_type": "markdown",
      "source": [
        "### Seleção das colunas de interesse pra SA"
      ],
      "metadata": {
        "id": "TTVj2JjGX-3y"
      }
    },
    {
      "cell_type": "code",
      "source": [
        "df_train_SA_tmp = df_train_SA#[['review','len_review_text','review_title','review_text', 'overall_rating', 'rating']]"
      ],
      "metadata": {
        "id": "AZ1T02YLS4Gi"
      },
      "execution_count": 41,
      "outputs": []
    },
    {
      "cell_type": "code",
      "source": [
        "df_train_SA_2, df_dev_SA_2 = train_test_split(df_train_SA_tmp, test_size=0.2, random_state=SEED)"
      ],
      "metadata": {
        "id": "W3XQlFzpAxIJ"
      },
      "execution_count": 42,
      "outputs": []
    },
    {
      "cell_type": "code",
      "source": [
        "g = df_train_SA_2.groupby('rating')\n",
        "df_train_SA_balanced = g.apply(lambda x: x.sample(g.size().min(), random_state=SEED))\n",
        "df_train_SA_balanced = df_train_SA_balanced.droplevel(0)"
      ],
      "metadata": {
        "id": "458zOQIhFm0x"
      },
      "execution_count": 43,
      "outputs": []
    },
    {
      "cell_type": "code",
      "source": [
        "df_train_REC = pd.concat((df_train_SA_tmp[~df_train_SA_tmp.index.isin(df_train_SA_balanced.index)], df_train_REC))"
      ],
      "metadata": {
        "id": "S3elYzdqFqs6"
      },
      "execution_count": 44,
      "outputs": []
    },
    {
      "cell_type": "code",
      "source": [
        "df_train_SA_balanced.to_csv('train_sa.csv', index=False)\n",
        "df_dev_SA_2.to_csv('dev_sa.csv', index=False)"
      ],
      "metadata": {
        "id": "lEg7gQtaAvMv"
      },
      "execution_count": 45,
      "outputs": []
    },
    {
      "cell_type": "code",
      "source": [
        "msno.matrix(df_train_SA_2)"
      ],
      "metadata": {
        "colab": {
          "base_uri": "https://localhost:8080/",
          "height": 540
        },
        "id": "YEChkaHEXH6w",
        "outputId": "70d43624-e9fe-48e1-d78d-acbd15998ce3"
      },
      "execution_count": 46,
      "outputs": [
        {
          "output_type": "execute_result",
          "data": {
            "text/plain": [
              "<matplotlib.axes._subplots.AxesSubplot at 0x7f952cd4f280>"
            ]
          },
          "metadata": {},
          "execution_count": 46
        },
        {
          "output_type": "display_data",
          "data": {
            "text/plain": [
              "<Figure size 1800x720 with 2 Axes>"
            ],
            "image/png": "[encoded data removed]"
          },
          "metadata": {
            "needs_background": "light"
          }
        }
      ]
    },
    {
      "cell_type": "markdown",
      "source": [
        "### Confirmando o Balanceamento"
      ],
      "metadata": {
        "id": "F0GSCmxRXjdZ"
      }
    },
    {
      "cell_type": "code",
      "source": [
        "df_train_SA_balanced['rating'].value_counts()"
      ],
      "metadata": {
        "colab": {
          "base_uri": "https://localhost:8080/"
        },
        "id": "UGfw2_xkXpC0",
        "outputId": "b995df87-36ae-4f12-d126-135e730548e5"
      },
      "execution_count": 47,
      "outputs": [
        {
          "output_type": "execute_result",
          "data": {
            "text/plain": [
              "-1    10854\n",
              " 1    10854\n",
              "Name: rating, dtype: int64"
            ]
          },
          "metadata": {},
          "execution_count": 47
        }
      ]
    },
    {
      "cell_type": "code",
      "source": [
        "df_dev_SA_2['rating'].value_counts()"
      ],
      "metadata": {
        "colab": {
          "base_uri": "https://localhost:8080/"
        },
        "id": "wg_nbN1cB2AS",
        "outputId": "9f4a2cb8-04d5-47d6-b102-45f2b293c7da"
      },
      "execution_count": 48,
      "outputs": [
        {
          "output_type": "execute_result",
          "data": {
            "text/plain": [
              " 1    6356\n",
              "-1    2682\n",
              "Name: rating, dtype: int64"
            ]
          },
          "metadata": {},
          "execution_count": 48
        }
      ]
    },
    {
      "cell_type": "code",
      "source": [
        "df_train_SA_2.describe()"
      ],
      "metadata": {
        "colab": {
          "base_uri": "https://localhost:8080/",
          "height": 300
        },
        "id": "HeWZTqa5XpyL",
        "outputId": "08213fce-ad7a-40bb-ac5c-d55d1f1abada"
      },
      "execution_count": 49,
      "outputs": [
        {
          "output_type": "execute_result",
          "data": {
            "text/plain": [
              "       len_review_text  overall_rating        rating\n",
              "count     36152.000000    36152.000000  36152.000000\n",
              "mean        135.575653        3.590064      0.399535\n",
              "std         121.750191        1.607918      0.916730\n",
              "min          50.000000        1.000000     -1.000000\n",
              "25%          67.000000        2.000000     -1.000000\n",
              "50%          95.000000        4.000000      1.000000\n",
              "75%         154.000000        5.000000      1.000000\n",
              "max        2685.000000        5.000000      1.000000"
            ],
            "text/html": [
              "\n",
              "  <div id=\"df-8452534a-0e82-44fe-b314-6732623d6e1e\">\n",
              "    <div class=\"colab-df-container\">\n",
              "      <div>\n",
              "<style scoped>\n",
              "    .dataframe tbody tr th:only-of-type {\n",
              "        vertical-align: middle;\n",
              "    }\n",
              "\n",
              "    .dataframe tbody tr th {\n",
              "        vertical-align: top;\n",
              "    }\n",
              "\n",
              "    .dataframe thead th {\n",
              "        text-align: right;\n",
              "    }\n",
              "</style>\n",
              "<table border=\"1\" class=\"dataframe\">\n",
              "  <thead>\n",
              "    <tr style=\"text-align: right;\">\n",
              "      <th></th>\n",
              "      <th>len_review_text</th>\n",
              "      <th>overall_rating</th>\n",
              "      <th>rating</th>\n",
              "    </tr>\n",
              "  </thead>\n",
              "  <tbody>\n",
              "    <tr>\n",
              "      <th>count</th>\n",
              "      <td>36152.000000</td>\n",
              "      <td>36152.000000</td>\n",
              "      <td>36152.000000</td>\n",
              "    </tr>\n",
              "    <tr>\n",
              "      <th>mean</th>\n",
              "      <td>135.575653</td>\n",
              "      <td>3.590064</td>\n",
              "      <td>0.399535</td>\n",
              "    </tr>\n",
              "    <tr>\n",
              "      <th>std</th>\n",
              "      <td>121.750191</td>\n",
              "      <td>1.607918</td>\n",
              "      <td>0.916730</td>\n",
              "    </tr>\n",
              "    <tr>\n",
              "      <th>min</th>\n",
              "      <td>50.000000</td>\n",
              "      <td>1.000000</td>\n",
              "      <td>-1.000000</td>\n",
              "    </tr>\n",
              "    <tr>\n",
              "      <th>25%</th>\n",
              "      <td>67.000000</td>\n",
              "      <td>2.000000</td>\n",
              "      <td>-1.000000</td>\n",
              "    </tr>\n",
              "    <tr>\n",
              "      <th>50%</th>\n",
              "      <td>95.000000</td>\n",
              "      <td>4.000000</td>\n",
              "      <td>1.000000</td>\n",
              "    </tr>\n",
              "    <tr>\n",
              "      <th>75%</th>\n",
              "      <td>154.000000</td>\n",
              "      <td>5.000000</td>\n",
              "      <td>1.000000</td>\n",
              "    </tr>\n",
              "    <tr>\n",
              "      <th>max</th>\n",
              "      <td>2685.000000</td>\n",
              "      <td>5.000000</td>\n",
              "      <td>1.000000</td>\n",
              "    </tr>\n",
              "  </tbody>\n",
              "</table>\n",
              "</div>\n",
              "      <button class=\"colab-df-convert\" onclick=\"convertToInteractive('df-8452534a-0e82-44fe-b314-6732623d6e1e')\"\n",
              "              title=\"Convert this dataframe to an interactive table.\"\n",
              "              style=\"display:none;\">\n",
              "        \n",
              "  <svg xmlns=\"http://www.w3.org/2000/svg\" height=\"24px\"viewBox=\"0 0 24 24\"\n",
              "       width=\"24px\">\n",
              "    <path d=\"M0 0h24v24H0V0z\" fill=\"none\"/>\n",
              "    <path d=\"M18.56 5.44l.94 2.06.94-2.06 2.06-.94-2.06-.94-.94-2.06-.94 2.06-2.06.94zm-11 1L8.5 8.5l.94-2.06 2.06-.94-2.06-.94L8.5 2.5l-.94 2.06-2.06.94zm10 10l.94 2.06.94-2.06 2.06-.94-2.06-.94-.94-2.06-.94 2.06-2.06.94z\"/><path d=\"M17.41 7.96l-1.37-1.37c-.4-.4-.92-.59-1.43-.59-.52 0-1.04.2-1.43.59L10.3 9.45l-7.72 7.72c-.78.78-.78 2.05 0 2.83L4 21.41c.39.39.9.59 1.41.59.51 0 1.02-.2 1.41-.59l7.78-7.78 2.81-2.81c.8-.78.8-2.07 0-2.86zM5.41 20L4 18.59l7.72-7.72 1.47 1.35L5.41 20z\"/>\n",
              "  </svg>\n",
              "      </button>\n",
              "      \n",
              "  <style>\n",
              "    .colab-df-container {\n",
              "      display:flex;\n",
              "      flex-wrap:wrap;\n",
              "      gap: 12px;\n",
              "    }\n",
              "\n",
              "    .colab-df-convert {\n",
              "      background-color: #E8F0FE;\n",
              "      border: none;\n",
              "      border-radius: 50%;\n",
              "      cursor: pointer;\n",
              "      display: none;\n",
              "      fill: #1967D2;\n",
              "      height: 32px;\n",
              "      padding: 0 0 0 0;\n",
              "      width: 32px;\n",
              "    }\n",
              "\n",
              "    .colab-df-convert:hover {\n",
              "      background-color: #E2EBFA;\n",
              "      box-shadow: 0px 1px 2px rgba(60, 64, 67, 0.3), 0px 1px 3px 1px rgba(60, 64, 67, 0.15);\n",
              "      fill: #174EA6;\n",
              "    }\n",
              "\n",
              "    [theme=dark] .colab-df-convert {\n",
              "      background-color: #3B4455;\n",
              "      fill: #D2E3FC;\n",
              "    }\n",
              "\n",
              "    [theme=dark] .colab-df-convert:hover {\n",
              "      background-color: #434B5C;\n",
              "      box-shadow: 0px 1px 3px 1px rgba(0, 0, 0, 0.15);\n",
              "      filter: drop-shadow(0px 1px 2px rgba(0, 0, 0, 0.3));\n",
              "      fill: #FFFFFF;\n",
              "    }\n",
              "  </style>\n",
              "\n",
              "      <script>\n",
              "        const buttonEl =\n",
              "          document.querySelector('#df-8452534a-0e82-44fe-b314-6732623d6e1e button.colab-df-convert');\n",
              "        buttonEl.style.display =\n",
              "          google.colab.kernel.accessAllowed ? 'block' : 'none';\n",
              "\n",
              "        async function convertToInteractive(key) {\n",
              "          const element = document.querySelector('#df-8452534a-0e82-44fe-b314-6732623d6e1e');\n",
              "          const dataTable =\n",
              "            await google.colab.kernel.invokeFunction('convertToInteractive',\n",
              "                                                     [key], {});\n",
              "          if (!dataTable) return;\n",
              "\n",
              "          const docLinkHtml = 'Like what you see? Visit the ' +\n",
              "            '<a target=\"_blank\" href=https://colab.research.google.com/notebooks/data_table.ipynb>data table notebook</a>'\n",
              "            + ' to learn more about interactive tables.';\n",
              "          element.innerHTML = '';\n",
              "          dataTable['output_type'] = 'display_data';\n",
              "          await google.colab.output.renderOutput(dataTable, element);\n",
              "          const docLink = document.createElement('div');\n",
              "          docLink.innerHTML = docLinkHtml;\n",
              "          element.appendChild(docLink);\n",
              "        }\n",
              "      </script>\n",
              "    </div>\n",
              "  </div>\n",
              "  "
            ]
          },
          "metadata": {},
          "execution_count": 49
        }
      ]
    },
    {
      "cell_type": "code",
      "source": [
        "df_train_SA_2"
      ],
      "metadata": {
        "colab": {
          "base_uri": "https://localhost:8080/",
          "height": 641
        },
        "id": "_N5iOBrAXspx",
        "outputId": "84f0924d-a475-4c5a-cbcf-a6947d324eae"
      },
      "execution_count": 50,
      "outputs": [
        {
          "output_type": "execute_result",
          "data": {
            "text/plain": [
              "                                                   review  len_review_text  \\\n",
              "11507   não gostei\\nInstalei na tv analógica e seu con...              127   \n",
              "100099  Notebook Positivo\\nSempre considerei a Positiv...              123   \n",
              "57903   Muito bom\\nMuito bom o produto!! Recomendo par...              190   \n",
              "131499  Tv 55\\nÓtimo produto quantidade inexplicável,e...               66   \n",
              "131915  É muita qualidade.\\nFoi pra minha irmã na verd...               65   \n",
              "...                                                   ...              ...   \n",
              "14807   Amei o produto\\nO produto é muito bom, vale su...              144   \n",
              "71942   NÃO RECEBI MEU PRODUTO\\nVcs mandam e-mail pra ...              151   \n",
              "38118   REINICIA SOZINHO\\nTenho um há tres meses e no ...              200   \n",
              "12947   Muito bom\\nFaço uso deste produto há alguns me...               68   \n",
              "116428  Bom produto\\nFácil instalação, silencioso Prod...               61   \n",
              "\n",
              "                  review_title  \\\n",
              "11507               não gostei   \n",
              "100099       Notebook Positivo   \n",
              "57903                Muito bom   \n",
              "131499                   Tv 55   \n",
              "131915      É muita qualidade.   \n",
              "...                        ...   \n",
              "14807           Amei o produto   \n",
              "71942   NÃO RECEBI MEU PRODUTO   \n",
              "38118         REINICIA SOZINHO   \n",
              "12947                Muito bom   \n",
              "116428             Bom produto   \n",
              "\n",
              "                                              review_text  overall_rating  \\\n",
              "11507   Instalei na tv analógica e seu conversor e não...               1   \n",
              "100099  Sempre considerei a Positivo como uma das melh...               4   \n",
              "57903   Muito bom o produto!! Recomendo para quem prec...               4   \n",
              "131499  Ótimo produto quantidade inexplicável,entrega ...               5   \n",
              "131915  Foi pra minha irmã na verdade. Ela disse que e...               5   \n",
              "...                                                   ...             ...   \n",
              "14807   O produto é muito bom, vale super a pena efetu...               5   \n",
              "71942   Vcs mandam e-mail pra avaliar um produto que j...               1   \n",
              "38118   Tenho um há tres meses e no primeiro mes começ...               2   \n",
              "12947   Faço uso deste produto há alguns meses e não c...               5   \n",
              "116428  Fácil instalação, silencioso Produto bom Eeeee...               4   \n",
              "\n",
              "        rating  \n",
              "11507       -1  \n",
              "100099       1  \n",
              "57903        1  \n",
              "131499       1  \n",
              "131915       1  \n",
              "...        ...  \n",
              "14807        1  \n",
              "71942       -1  \n",
              "38118       -1  \n",
              "12947        1  \n",
              "116428       1  \n",
              "\n",
              "[36152 rows x 6 columns]"
            ],
            "text/html": [
              "\n",
              "  <div id=\"df-b9b6587f-0d5a-43d0-9d1d-e2e52464a506\">\n",
              "    <div class=\"colab-df-container\">\n",
              "      <div>\n",
              "<style scoped>\n",
              "    .dataframe tbody tr th:only-of-type {\n",
              "        vertical-align: middle;\n",
              "    }\n",
              "\n",
              "    .dataframe tbody tr th {\n",
              "        vertical-align: top;\n",
              "    }\n",
              "\n",
              "    .dataframe thead th {\n",
              "        text-align: right;\n",
              "    }\n",
              "</style>\n",
              "<table border=\"1\" class=\"dataframe\">\n",
              "  <thead>\n",
              "    <tr style=\"text-align: right;\">\n",
              "      <th></th>\n",
              "      <th>review</th>\n",
              "      <th>len_review_text</th>\n",
              "      <th>review_title</th>\n",
              "      <th>review_text</th>\n",
              "      <th>overall_rating</th>\n",
              "      <th>rating</th>\n",
              "    </tr>\n",
              "  </thead>\n",
              "  <tbody>\n",
              "    <tr>\n",
              "      <th>11507</th>\n",
              "      <td>não gostei\\nInstalei na tv analógica e seu con...</td>\n",
              "      <td>127</td>\n",
              "      <td>não gostei</td>\n",
              "      <td>Instalei na tv analógica e seu conversor e não...</td>\n",
              "      <td>1</td>\n",
              "      <td>-1</td>\n",
              "    </tr>\n",
              "    <tr>\n",
              "      <th>100099</th>\n",
              "      <td>Notebook Positivo\\nSempre considerei a Positiv...</td>\n",
              "      <td>123</td>\n",
              "      <td>Notebook Positivo</td>\n",
              "      <td>Sempre considerei a Positivo como uma das melh...</td>\n",
              "      <td>4</td>\n",
              "      <td>1</td>\n",
              "    </tr>\n",
              "    <tr>\n",
              "      <th>57903</th>\n",
              "      <td>Muito bom\\nMuito bom o produto!! Recomendo par...</td>\n",
              "      <td>190</td>\n",
              "      <td>Muito bom</td>\n",
              "      <td>Muito bom o produto!! Recomendo para quem prec...</td>\n",
              "      <td>4</td>\n",
              "      <td>1</td>\n",
              "    </tr>\n",
              "    <tr>\n",
              "      <th>131499</th>\n",
              "      <td>Tv 55\\nÓtimo produto quantidade inexplicável,e...</td>\n",
              "      <td>66</td>\n",
              "      <td>Tv 55</td>\n",
              "      <td>Ótimo produto quantidade inexplicável,entrega ...</td>\n",
              "      <td>5</td>\n",
              "      <td>1</td>\n",
              "    </tr>\n",
              "    <tr>\n",
              "      <th>131915</th>\n",
              "      <td>É muita qualidade.\\nFoi pra minha irmã na verd...</td>\n",
              "      <td>65</td>\n",
              "      <td>É muita qualidade.</td>\n",
              "      <td>Foi pra minha irmã na verdade. Ela disse que e...</td>\n",
              "      <td>5</td>\n",
              "      <td>1</td>\n",
              "    </tr>\n",
              "    <tr>\n",
              "      <th>...</th>\n",
              "      <td>...</td>\n",
              "      <td>...</td>\n",
              "      <td>...</td>\n",
              "      <td>...</td>\n",
              "      <td>...</td>\n",
              "      <td>...</td>\n",
              "    </tr>\n",
              "    <tr>\n",
              "      <th>14807</th>\n",
              "      <td>Amei o produto\\nO produto é muito bom, vale su...</td>\n",
              "      <td>144</td>\n",
              "      <td>Amei o produto</td>\n",
              "      <td>O produto é muito bom, vale super a pena efetu...</td>\n",
              "      <td>5</td>\n",
              "      <td>1</td>\n",
              "    </tr>\n",
              "    <tr>\n",
              "      <th>71942</th>\n",
              "      <td>NÃO RECEBI MEU PRODUTO\\nVcs mandam e-mail pra ...</td>\n",
              "      <td>151</td>\n",
              "      <td>NÃO RECEBI MEU PRODUTO</td>\n",
              "      <td>Vcs mandam e-mail pra avaliar um produto que j...</td>\n",
              "      <td>1</td>\n",
              "      <td>-1</td>\n",
              "    </tr>\n",
              "    <tr>\n",
              "      <th>38118</th>\n",
              "      <td>REINICIA SOZINHO\\nTenho um há tres meses e no ...</td>\n",
              "      <td>200</td>\n",
              "      <td>REINICIA SOZINHO</td>\n",
              "      <td>Tenho um há tres meses e no primeiro mes começ...</td>\n",
              "      <td>2</td>\n",
              "      <td>-1</td>\n",
              "    </tr>\n",
              "    <tr>\n",
              "      <th>12947</th>\n",
              "      <td>Muito bom\\nFaço uso deste produto há alguns me...</td>\n",
              "      <td>68</td>\n",
              "      <td>Muito bom</td>\n",
              "      <td>Faço uso deste produto há alguns meses e não c...</td>\n",
              "      <td>5</td>\n",
              "      <td>1</td>\n",
              "    </tr>\n",
              "    <tr>\n",
              "      <th>116428</th>\n",
              "      <td>Bom produto\\nFácil instalação, silencioso Prod...</td>\n",
              "      <td>61</td>\n",
              "      <td>Bom produto</td>\n",
              "      <td>Fácil instalação, silencioso Produto bom Eeeee...</td>\n",
              "      <td>4</td>\n",
              "      <td>1</td>\n",
              "    </tr>\n",
              "  </tbody>\n",
              "</table>\n",
              "<p>36152 rows × 6 columns</p>\n",
              "</div>\n",
              "      <button class=\"colab-df-convert\" onclick=\"convertToInteractive('df-b9b6587f-0d5a-43d0-9d1d-e2e52464a506')\"\n",
              "              title=\"Convert this dataframe to an interactive table.\"\n",
              "              style=\"display:none;\">\n",
              "        \n",
              "  <svg xmlns=\"http://www.w3.org/2000/svg\" height=\"24px\"viewBox=\"0 0 24 24\"\n",
              "       width=\"24px\">\n",
              "    <path d=\"M0 0h24v24H0V0z\" fill=\"none\"/>\n",
              "    <path d=\"M18.56 5.44l.94 2.06.94-2.06 2.06-.94-2.06-.94-.94-2.06-.94 2.06-2.06.94zm-11 1L8.5 8.5l.94-2.06 2.06-.94-2.06-.94L8.5 2.5l-.94 2.06-2.06.94zm10 10l.94 2.06.94-2.06 2.06-.94-2.06-.94-.94-2.06-.94 2.06-2.06.94z\"/><path d=\"M17.41 7.96l-1.37-1.37c-.4-.4-.92-.59-1.43-.59-.52 0-1.04.2-1.43.59L10.3 9.45l-7.72 7.72c-.78.78-.78 2.05 0 2.83L4 21.41c.39.39.9.59 1.41.59.51 0 1.02-.2 1.41-.59l7.78-7.78 2.81-2.81c.8-.78.8-2.07 0-2.86zM5.41 20L4 18.59l7.72-7.72 1.47 1.35L5.41 20z\"/>\n",
              "  </svg>\n",
              "      </button>\n",
              "      \n",
              "  <style>\n",
              "    .colab-df-container {\n",
              "      display:flex;\n",
              "      flex-wrap:wrap;\n",
              "      gap: 12px;\n",
              "    }\n",
              "\n",
              "    .colab-df-convert {\n",
              "      background-color: #E8F0FE;\n",
              "      border: none;\n",
              "      border-radius: 50%;\n",
              "      cursor: pointer;\n",
              "      display: none;\n",
              "      fill: #1967D2;\n",
              "      height: 32px;\n",
              "      padding: 0 0 0 0;\n",
              "      width: 32px;\n",
              "    }\n",
              "\n",
              "    .colab-df-convert:hover {\n",
              "      background-color: #E2EBFA;\n",
              "      box-shadow: 0px 1px 2px rgba(60, 64, 67, 0.3), 0px 1px 3px 1px rgba(60, 64, 67, 0.15);\n",
              "      fill: #174EA6;\n",
              "    }\n",
              "\n",
              "    [theme=dark] .colab-df-convert {\n",
              "      background-color: #3B4455;\n",
              "      fill: #D2E3FC;\n",
              "    }\n",
              "\n",
              "    [theme=dark] .colab-df-convert:hover {\n",
              "      background-color: #434B5C;\n",
              "      box-shadow: 0px 1px 3px 1px rgba(0, 0, 0, 0.15);\n",
              "      filter: drop-shadow(0px 1px 2px rgba(0, 0, 0, 0.3));\n",
              "      fill: #FFFFFF;\n",
              "    }\n",
              "  </style>\n",
              "\n",
              "      <script>\n",
              "        const buttonEl =\n",
              "          document.querySelector('#df-b9b6587f-0d5a-43d0-9d1d-e2e52464a506 button.colab-df-convert');\n",
              "        buttonEl.style.display =\n",
              "          google.colab.kernel.accessAllowed ? 'block' : 'none';\n",
              "\n",
              "        async function convertToInteractive(key) {\n",
              "          const element = document.querySelector('#df-b9b6587f-0d5a-43d0-9d1d-e2e52464a506');\n",
              "          const dataTable =\n",
              "            await google.colab.kernel.invokeFunction('convertToInteractive',\n",
              "                                                     [key], {});\n",
              "          if (!dataTable) return;\n",
              "\n",
              "          const docLinkHtml = 'Like what you see? Visit the ' +\n",
              "            '<a target=\"_blank\" href=https://colab.research.google.com/notebooks/data_table.ipynb>data table notebook</a>'\n",
              "            + ' to learn more about interactive tables.';\n",
              "          element.innerHTML = '';\n",
              "          dataTable['output_type'] = 'display_data';\n",
              "          await google.colab.output.renderOutput(dataTable, element);\n",
              "          const docLink = document.createElement('div');\n",
              "          docLink.innerHTML = docLinkHtml;\n",
              "          element.appendChild(docLink);\n",
              "        }\n",
              "      </script>\n",
              "    </div>\n",
              "  </div>\n",
              "  "
            ]
          },
          "metadata": {},
          "execution_count": 50
        }
      ]
    },
    {
      "cell_type": "code",
      "source": [],
      "metadata": {
        "id": "YzV5KnbpER61"
      },
      "execution_count": 50,
      "outputs": []
    },
    {
      "cell_type": "code",
      "source": [],
      "metadata": {
        "id": "fyPIqXN_Bgxw"
      },
      "execution_count": 50,
      "outputs": []
    },
    {
      "cell_type": "markdown",
      "source": [
        "## Tratamento dos dados para REC"
      ],
      "metadata": {
        "id": "0LhAZXWIPy5o"
      }
    },
    {
      "cell_type": "markdown",
      "source": [
        "### Seleção das colunas de interesse pra REC"
      ],
      "metadata": {
        "id": "Dg6wW4TXQjjK"
      }
    },
    {
      "cell_type": "code",
      "source": [
        "df_train_REC_2 = df_train_REC#[['review','len_review_text','reviewer_id','product_id','review_title','review_text','product_name','site_category_lv1', 'overall_rating', 'rating']]"
      ],
      "metadata": {
        "id": "BarmLeinQp5D"
      },
      "execution_count": 51,
      "outputs": []
    },
    {
      "cell_type": "code",
      "source": [
        "df_train_REC_2.to_csv('train_rec.csv', index=False)"
      ],
      "metadata": {
        "id": "3DGDicQDAnPI"
      },
      "execution_count": 52,
      "outputs": []
    },
    {
      "cell_type": "code",
      "source": [
        "msno.matrix(df_train_REC_2)"
      ],
      "metadata": {
        "colab": {
          "base_uri": "https://localhost:8080/",
          "height": 545
        },
        "id": "FfhvzxXnMogw",
        "outputId": "9e36fb5f-74fb-4e18-a4b9-81dc04cda4fa"
      },
      "execution_count": 53,
      "outputs": [
        {
          "output_type": "execute_result",
          "data": {
            "text/plain": [
              "<matplotlib.axes._subplots.AxesSubplot at 0x7f953fbef4c0>"
            ]
          },
          "metadata": {},
          "execution_count": 53
        },
        {
          "output_type": "display_data",
          "data": {
            "text/plain": [
              "<Figure size 1800x720 with 2 Axes>"
            ],
            "image/png": "[encoded data removed]"
          },
          "metadata": {
            "needs_background": "light"
          }
        }
      ]
    },
    {
      "cell_type": "markdown",
      "source": [
        "### Confirmando o balanceamento"
      ],
      "metadata": {
        "id": "O5tg3TSCSb7f"
      }
    },
    {
      "cell_type": "code",
      "source": [
        "df_train_REC_2['rating'].value_counts()"
      ],
      "metadata": {
        "colab": {
          "base_uri": "https://localhost:8080/"
        },
        "id": "066d-traUNhH",
        "outputId": "2cd1c1f8-2786-482c-b182-be423298a7d8"
      },
      "execution_count": 54,
      "outputs": [
        {
          "output_type": "execute_result",
          "data": {
            "text/plain": [
              " 1    52444\n",
              "-1    16098\n",
              " 0    12776\n",
              "Name: rating, dtype: int64"
            ]
          },
          "metadata": {},
          "execution_count": 54
        }
      ]
    },
    {
      "cell_type": "code",
      "source": [
        "df_train_REC_2.describe()"
      ],
      "metadata": {
        "colab": {
          "base_uri": "https://localhost:8080/",
          "height": 300
        },
        "id": "oz19QFIE26r_",
        "outputId": "a11f51a2-cccb-46e3-d35e-6ea5c6164aa0"
      },
      "execution_count": 55,
      "outputs": [
        {
          "output_type": "execute_result",
          "data": {
            "text/plain": [
              "       len_review_text  overall_rating        rating\n",
              "count     81318.000000    81318.000000  81318.000000\n",
              "mean        132.919858        3.681854      0.446961\n",
              "std         123.926859        1.409441      0.801949\n",
              "min          50.000000        1.000000     -1.000000\n",
              "25%          67.000000        3.000000      0.000000\n",
              "50%          93.000000        4.000000      1.000000\n",
              "75%         150.000000        5.000000      1.000000\n",
              "max        4548.000000        5.000000      1.000000"
            ],
            "text/html": [
              "\n",
              "  <div id=\"df-46555250-9a97-49c0-8faf-213f8c72ea5b\">\n",
              "    <div class=\"colab-df-container\">\n",
              "      <div>\n",
              "<style scoped>\n",
              "    .dataframe tbody tr th:only-of-type {\n",
              "        vertical-align: middle;\n",
              "    }\n",
              "\n",
              "    .dataframe tbody tr th {\n",
              "        vertical-align: top;\n",
              "    }\n",
              "\n",
              "    .dataframe thead th {\n",
              "        text-align: right;\n",
              "    }\n",
              "</style>\n",
              "<table border=\"1\" class=\"dataframe\">\n",
              "  <thead>\n",
              "    <tr style=\"text-align: right;\">\n",
              "      <th></th>\n",
              "      <th>len_review_text</th>\n",
              "      <th>overall_rating</th>\n",
              "      <th>rating</th>\n",
              "    </tr>\n",
              "  </thead>\n",
              "  <tbody>\n",
              "    <tr>\n",
              "      <th>count</th>\n",
              "      <td>81318.000000</td>\n",
              "      <td>81318.000000</td>\n",
              "      <td>81318.000000</td>\n",
              "    </tr>\n",
              "    <tr>\n",
              "      <th>mean</th>\n",
              "      <td>132.919858</td>\n",
              "      <td>3.681854</td>\n",
              "      <td>0.446961</td>\n",
              "    </tr>\n",
              "    <tr>\n",
              "      <th>std</th>\n",
              "      <td>123.926859</td>\n",
              "      <td>1.409441</td>\n",
              "      <td>0.801949</td>\n",
              "    </tr>\n",
              "    <tr>\n",
              "      <th>min</th>\n",
              "      <td>50.000000</td>\n",
              "      <td>1.000000</td>\n",
              "      <td>-1.000000</td>\n",
              "    </tr>\n",
              "    <tr>\n",
              "      <th>25%</th>\n",
              "      <td>67.000000</td>\n",
              "      <td>3.000000</td>\n",
              "      <td>0.000000</td>\n",
              "    </tr>\n",
              "    <tr>\n",
              "      <th>50%</th>\n",
              "      <td>93.000000</td>\n",
              "      <td>4.000000</td>\n",
              "      <td>1.000000</td>\n",
              "    </tr>\n",
              "    <tr>\n",
              "      <th>75%</th>\n",
              "      <td>150.000000</td>\n",
              "      <td>5.000000</td>\n",
              "      <td>1.000000</td>\n",
              "    </tr>\n",
              "    <tr>\n",
              "      <th>max</th>\n",
              "      <td>4548.000000</td>\n",
              "      <td>5.000000</td>\n",
              "      <td>1.000000</td>\n",
              "    </tr>\n",
              "  </tbody>\n",
              "</table>\n",
              "</div>\n",
              "      <button class=\"colab-df-convert\" onclick=\"convertToInteractive('df-46555250-9a97-49c0-8faf-213f8c72ea5b')\"\n",
              "              title=\"Convert this dataframe to an interactive table.\"\n",
              "              style=\"display:none;\">\n",
              "        \n",
              "  <svg xmlns=\"http://www.w3.org/2000/svg\" height=\"24px\"viewBox=\"0 0 24 24\"\n",
              "       width=\"24px\">\n",
              "    <path d=\"M0 0h24v24H0V0z\" fill=\"none\"/>\n",
              "    <path d=\"M18.56 5.44l.94 2.06.94-2.06 2.06-.94-2.06-.94-.94-2.06-.94 2.06-2.06.94zm-11 1L8.5 8.5l.94-2.06 2.06-.94-2.06-.94L8.5 2.5l-.94 2.06-2.06.94zm10 10l.94 2.06.94-2.06 2.06-.94-2.06-.94-.94-2.06-.94 2.06-2.06.94z\"/><path d=\"M17.41 7.96l-1.37-1.37c-.4-.4-.92-.59-1.43-.59-.52 0-1.04.2-1.43.59L10.3 9.45l-7.72 7.72c-.78.78-.78 2.05 0 2.83L4 21.41c.39.39.9.59 1.41.59.51 0 1.02-.2 1.41-.59l7.78-7.78 2.81-2.81c.8-.78.8-2.07 0-2.86zM5.41 20L4 18.59l7.72-7.72 1.47 1.35L5.41 20z\"/>\n",
              "  </svg>\n",
              "      </button>\n",
              "      \n",
              "  <style>\n",
              "    .colab-df-container {\n",
              "      display:flex;\n",
              "      flex-wrap:wrap;\n",
              "      gap: 12px;\n",
              "    }\n",
              "\n",
              "    .colab-df-convert {\n",
              "      background-color: #E8F0FE;\n",
              "      border: none;\n",
              "      border-radius: 50%;\n",
              "      cursor: pointer;\n",
              "      display: none;\n",
              "      fill: #1967D2;\n",
              "      height: 32px;\n",
              "      padding: 0 0 0 0;\n",
              "      width: 32px;\n",
              "    }\n",
              "\n",
              "    .colab-df-convert:hover {\n",
              "      background-color: #E2EBFA;\n",
              "      box-shadow: 0px 1px 2px rgba(60, 64, 67, 0.3), 0px 1px 3px 1px rgba(60, 64, 67, 0.15);\n",
              "      fill: #174EA6;\n",
              "    }\n",
              "\n",
              "    [theme=dark] .colab-df-convert {\n",
              "      background-color: #3B4455;\n",
              "      fill: #D2E3FC;\n",
              "    }\n",
              "\n",
              "    [theme=dark] .colab-df-convert:hover {\n",
              "      background-color: #434B5C;\n",
              "      box-shadow: 0px 1px 3px 1px rgba(0, 0, 0, 0.15);\n",
              "      filter: drop-shadow(0px 1px 2px rgba(0, 0, 0, 0.3));\n",
              "      fill: #FFFFFF;\n",
              "    }\n",
              "  </style>\n",
              "\n",
              "      <script>\n",
              "        const buttonEl =\n",
              "          document.querySelector('#df-46555250-9a97-49c0-8faf-213f8c72ea5b button.colab-df-convert');\n",
              "        buttonEl.style.display =\n",
              "          google.colab.kernel.accessAllowed ? 'block' : 'none';\n",
              "\n",
              "        async function convertToInteractive(key) {\n",
              "          const element = document.querySelector('#df-46555250-9a97-49c0-8faf-213f8c72ea5b');\n",
              "          const dataTable =\n",
              "            await google.colab.kernel.invokeFunction('convertToInteractive',\n",
              "                                                     [key], {});\n",
              "          if (!dataTable) return;\n",
              "\n",
              "          const docLinkHtml = 'Like what you see? Visit the ' +\n",
              "            '<a target=\"_blank\" href=https://colab.research.google.com/notebooks/data_table.ipynb>data table notebook</a>'\n",
              "            + ' to learn more about interactive tables.';\n",
              "          element.innerHTML = '';\n",
              "          dataTable['output_type'] = 'display_data';\n",
              "          await google.colab.output.renderOutput(dataTable, element);\n",
              "          const docLink = document.createElement('div');\n",
              "          docLink.innerHTML = docLinkHtml;\n",
              "          element.appendChild(docLink);\n",
              "        }\n",
              "      </script>\n",
              "    </div>\n",
              "  </div>\n",
              "  "
            ]
          },
          "metadata": {},
          "execution_count": 55
        }
      ]
    },
    {
      "cell_type": "code",
      "source": [
        "df_train_REC_2"
      ],
      "metadata": {
        "colab": {
          "base_uri": "https://localhost:8080/",
          "height": 1000
        },
        "id": "IdJcnou6SYSY",
        "outputId": "c0d87a45-0465-4641-f4ac-3ef42d5e2a0e"
      },
      "execution_count": 56,
      "outputs": [
        {
          "output_type": "execute_result",
          "data": {
            "text/plain": [
              "                                                   review  len_review_text  \\\n",
              "12813   Pedido realizado em dezembro ainda não foi ent...               60   \n",
              "110387  Gostei muito\\nÉ um produto muito bom, deixou m...               68   \n",
              "67269   Ótimo smartphone. Recomendo!\\nFunções que sati...               71   \n",
              "103932  Produto não funciona\\nQue decepção!!!!! Tenho ...              349   \n",
              "105495  VENDA EXCLUSIVA NO SALÃO DE BELEZA\\nEm virtude...              290   \n",
              "...                                                   ...              ...   \n",
              "117451  Produto excelente!\\nAdorei .Tive um probleminh...              165   \n",
              "53669   Ótimo notebook\\nÓtimo notebook para realizar t...              161   \n",
              "102033  Dois dias de uso quebrou o botão aonde liga e ...              140   \n",
              "77288   Tripé\\nExcelente tripé, veio com uma bolsa apr...              160   \n",
              "72775   Não comprem\\nCompre em outra loja moveis, pois...              181   \n",
              "\n",
              "                                              reviewer_id product_id  \\\n",
              "12813                                                 NaN        NaN   \n",
              "110387                                                NaN        NaN   \n",
              "67269                                                 NaN        NaN   \n",
              "103932                                                NaN        NaN   \n",
              "105495                                                NaN        NaN   \n",
              "...                                                   ...        ...   \n",
              "117451  933f18e90a9b6226d76cb3177f7893bdb129b87b88d490...    7404831   \n",
              "53669   99472da36c674404345e26847d87b814787bed3c7062ba...  132116769   \n",
              "102033  b838d59fdeb2abdf0d035e1b8ef5c64dc3a2e2d983bb0a...  132647720   \n",
              "77288   c6cc9ce2f3acb3da8f573512607654a2ad200fdac9ede5...  115643284   \n",
              "72775   c35fd5da92b0b069a4525a48049040acfd7584dbc40437...   25238925   \n",
              "\n",
              "                                             review_title  \\\n",
              "12813   Pedido realizado em dezembro ainda não foi ent...   \n",
              "110387                                       Gostei muito   \n",
              "67269                        Ótimo smartphone. Recomendo!   \n",
              "103932                               Produto não funciona   \n",
              "105495                 VENDA EXCLUSIVA NO SALÃO DE BELEZA   \n",
              "...                                                   ...   \n",
              "117451                                 Produto excelente!   \n",
              "53669                                      Ótimo notebook   \n",
              "102033  Dois dias de uso quebrou o botão aonde liga e ...   \n",
              "77288                                               Tripé   \n",
              "72775                                         Não comprem   \n",
              "\n",
              "                                              review_text  \\\n",
              "12813   Pedido realizado é pago em dezembro e ainda nã...   \n",
              "110387  É um produto muito bom, deixou meu cabelo liso...   \n",
              "67269   Funções que satisfaz as necessidades que eu pr...   \n",
              "103932  Que decepção!!!!! Tenho costume de usar o Ange...   \n",
              "105495  Em virtude da necessidade de avaliação capilar...   \n",
              "...                                                   ...   \n",
              "117451  Adorei .Tive um probleminha cm a entrega do pr...   \n",
              "53669   Ótimo notebook para realizar tarefas diárias: ...   \n",
              "102033  Dois dias de uso quebrou o botão de liga e des...   \n",
              "77288   Excelente tripé, veio com uma bolsa apropriada...   \n",
              "72775   Compre em outra loja moveis, pois não cumprem ...   \n",
              "\n",
              "                                             product_name  \\\n",
              "12813                                                 NaN   \n",
              "110387                                                NaN   \n",
              "67269                                                 NaN   \n",
              "103932                                                NaN   \n",
              "105495                                                NaN   \n",
              "...                                                   ...   \n",
              "117451       Mesa para Telefone Bis Imbuia/Preto - Artely   \n",
              "53669   Notebook Dell Inspiron i15-5566-D10P Intel Cor...   \n",
              "102033  Aspirador de Pó Philco Rapid1100 Turbo 2 em 1 ...   \n",
              "77288                      Tripé Amador Greika WT3750 -WF   \n",
              "72775   Guarda Roupa Casal Espelhado 3 Portas Napoli M...   \n",
              "\n",
              "           site_category_lv1  overall_rating  rating  \n",
              "12813                    NaN               1      -1  \n",
              "110387                   NaN               5       1  \n",
              "67269                    NaN               4       1  \n",
              "103932                   NaN               1      -1  \n",
              "105495                   NaN               5       1  \n",
              "...                      ...             ...     ...  \n",
              "117451                Móveis               5       1  \n",
              "53669            Informática               5       1  \n",
              "102033       Eletroportáteis               1      -1  \n",
              "77288   Câmeras e Filmadoras               5       1  \n",
              "72775                 Móveis               1      -1  \n",
              "\n",
              "[81318 rows x 10 columns]"
            ],
            "text/html": [
              "\n",
              "  <div id=\"df-838a2d81-6c45-43d6-85c5-42a3fecd647e\">\n",
              "    <div class=\"colab-df-container\">\n",
              "      <div>\n",
              "<style scoped>\n",
              "    .dataframe tbody tr th:only-of-type {\n",
              "        vertical-align: middle;\n",
              "    }\n",
              "\n",
              "    .dataframe tbody tr th {\n",
              "        vertical-align: top;\n",
              "    }\n",
              "\n",
              "    .dataframe thead th {\n",
              "        text-align: right;\n",
              "    }\n",
              "</style>\n",
              "<table border=\"1\" class=\"dataframe\">\n",
              "  <thead>\n",
              "    <tr style=\"text-align: right;\">\n",
              "      <th></th>\n",
              "      <th>review</th>\n",
              "      <th>len_review_text</th>\n",
              "      <th>reviewer_id</th>\n",
              "      <th>product_id</th>\n",
              "      <th>review_title</th>\n",
              "      <th>review_text</th>\n",
              "      <th>product_name</th>\n",
              "      <th>site_category_lv1</th>\n",
              "      <th>overall_rating</th>\n",
              "      <th>rating</th>\n",
              "    </tr>\n",
              "  </thead>\n",
              "  <tbody>\n",
              "    <tr>\n",
              "      <th>12813</th>\n",
              "      <td>Pedido realizado em dezembro ainda não foi ent...</td>\n",
              "      <td>60</td>\n",
              "      <td>NaN</td>\n",
              "      <td>NaN</td>\n",
              "      <td>Pedido realizado em dezembro ainda não foi ent...</td>\n",
              "      <td>Pedido realizado é pago em dezembro e ainda nã...</td>\n",
              "      <td>NaN</td>\n",
              "      <td>NaN</td>\n",
              "      <td>1</td>\n",
              "      <td>-1</td>\n",
              "    </tr>\n",
              "    <tr>\n",
              "      <th>110387</th>\n",
              "      <td>Gostei muito\\nÉ um produto muito bom, deixou m...</td>\n",
              "      <td>68</td>\n",
              "      <td>NaN</td>\n",
              "      <td>NaN</td>\n",
              "      <td>Gostei muito</td>\n",
              "      <td>É um produto muito bom, deixou meu cabelo liso...</td>\n",
              "      <td>NaN</td>\n",
              "      <td>NaN</td>\n",
              "      <td>5</td>\n",
              "      <td>1</td>\n",
              "    </tr>\n",
              "    <tr>\n",
              "      <th>67269</th>\n",
              "      <td>Ótimo smartphone. Recomendo!\\nFunções que sati...</td>\n",
              "      <td>71</td>\n",
              "      <td>NaN</td>\n",
              "      <td>NaN</td>\n",
              "      <td>Ótimo smartphone. Recomendo!</td>\n",
              "      <td>Funções que satisfaz as necessidades que eu pr...</td>\n",
              "      <td>NaN</td>\n",
              "      <td>NaN</td>\n",
              "      <td>4</td>\n",
              "      <td>1</td>\n",
              "    </tr>\n",
              "    <tr>\n",
              "      <th>103932</th>\n",
              "      <td>Produto não funciona\\nQue decepção!!!!! Tenho ...</td>\n",
              "      <td>349</td>\n",
              "      <td>NaN</td>\n",
              "      <td>NaN</td>\n",
              "      <td>Produto não funciona</td>\n",
              "      <td>Que decepção!!!!! Tenho costume de usar o Ange...</td>\n",
              "      <td>NaN</td>\n",
              "      <td>NaN</td>\n",
              "      <td>1</td>\n",
              "      <td>-1</td>\n",
              "    </tr>\n",
              "    <tr>\n",
              "      <th>105495</th>\n",
              "      <td>VENDA EXCLUSIVA NO SALÃO DE BELEZA\\nEm virtude...</td>\n",
              "      <td>290</td>\n",
              "      <td>NaN</td>\n",
              "      <td>NaN</td>\n",
              "      <td>VENDA EXCLUSIVA NO SALÃO DE BELEZA</td>\n",
              "      <td>Em virtude da necessidade de avaliação capilar...</td>\n",
              "      <td>NaN</td>\n",
              "      <td>NaN</td>\n",
              "      <td>5</td>\n",
              "      <td>1</td>\n",
              "    </tr>\n",
              "    <tr>\n",
              "      <th>...</th>\n",
              "      <td>...</td>\n",
              "      <td>...</td>\n",
              "      <td>...</td>\n",
              "      <td>...</td>\n",
              "      <td>...</td>\n",
              "      <td>...</td>\n",
              "      <td>...</td>\n",
              "      <td>...</td>\n",
              "      <td>...</td>\n",
              "      <td>...</td>\n",
              "    </tr>\n",
              "    <tr>\n",
              "      <th>117451</th>\n",
              "      <td>Produto excelente!\\nAdorei .Tive um probleminh...</td>\n",
              "      <td>165</td>\n",
              "      <td>933f18e90a9b6226d76cb3177f7893bdb129b87b88d490...</td>\n",
              "      <td>7404831</td>\n",
              "      <td>Produto excelente!</td>\n",
              "      <td>Adorei .Tive um probleminha cm a entrega do pr...</td>\n",
              "      <td>Mesa para Telefone Bis Imbuia/Preto - Artely</td>\n",
              "      <td>Móveis</td>\n",
              "      <td>5</td>\n",
              "      <td>1</td>\n",
              "    </tr>\n",
              "    <tr>\n",
              "      <th>53669</th>\n",
              "      <td>Ótimo notebook\\nÓtimo notebook para realizar t...</td>\n",
              "      <td>161</td>\n",
              "      <td>99472da36c674404345e26847d87b814787bed3c7062ba...</td>\n",
              "      <td>132116769</td>\n",
              "      <td>Ótimo notebook</td>\n",
              "      <td>Ótimo notebook para realizar tarefas diárias: ...</td>\n",
              "      <td>Notebook Dell Inspiron i15-5566-D10P Intel Cor...</td>\n",
              "      <td>Informática</td>\n",
              "      <td>5</td>\n",
              "      <td>1</td>\n",
              "    </tr>\n",
              "    <tr>\n",
              "      <th>102033</th>\n",
              "      <td>Dois dias de uso quebrou o botão aonde liga e ...</td>\n",
              "      <td>140</td>\n",
              "      <td>b838d59fdeb2abdf0d035e1b8ef5c64dc3a2e2d983bb0a...</td>\n",
              "      <td>132647720</td>\n",
              "      <td>Dois dias de uso quebrou o botão aonde liga e ...</td>\n",
              "      <td>Dois dias de uso quebrou o botão de liga e des...</td>\n",
              "      <td>Aspirador de Pó Philco Rapid1100 Turbo 2 em 1 ...</td>\n",
              "      <td>Eletroportáteis</td>\n",
              "      <td>1</td>\n",
              "      <td>-1</td>\n",
              "    </tr>\n",
              "    <tr>\n",
              "      <th>77288</th>\n",
              "      <td>Tripé\\nExcelente tripé, veio com uma bolsa apr...</td>\n",
              "      <td>160</td>\n",
              "      <td>c6cc9ce2f3acb3da8f573512607654a2ad200fdac9ede5...</td>\n",
              "      <td>115643284</td>\n",
              "      <td>Tripé</td>\n",
              "      <td>Excelente tripé, veio com uma bolsa apropriada...</td>\n",
              "      <td>Tripé Amador Greika WT3750 -WF</td>\n",
              "      <td>Câmeras e Filmadoras</td>\n",
              "      <td>5</td>\n",
              "      <td>1</td>\n",
              "    </tr>\n",
              "    <tr>\n",
              "      <th>72775</th>\n",
              "      <td>Não comprem\\nCompre em outra loja moveis, pois...</td>\n",
              "      <td>181</td>\n",
              "      <td>c35fd5da92b0b069a4525a48049040acfd7584dbc40437...</td>\n",
              "      <td>25238925</td>\n",
              "      <td>Não comprem</td>\n",
              "      <td>Compre em outra loja moveis, pois não cumprem ...</td>\n",
              "      <td>Guarda Roupa Casal Espelhado 3 Portas Napoli M...</td>\n",
              "      <td>Móveis</td>\n",
              "      <td>1</td>\n",
              "      <td>-1</td>\n",
              "    </tr>\n",
              "  </tbody>\n",
              "</table>\n",
              "<p>81318 rows × 10 columns</p>\n",
              "</div>\n",
              "      <button class=\"colab-df-convert\" onclick=\"convertToInteractive('df-838a2d81-6c45-43d6-85c5-42a3fecd647e')\"\n",
              "              title=\"Convert this dataframe to an interactive table.\"\n",
              "              style=\"display:none;\">\n",
              "        \n",
              "  <svg xmlns=\"http://www.w3.org/2000/svg\" height=\"24px\"viewBox=\"0 0 24 24\"\n",
              "       width=\"24px\">\n",
              "    <path d=\"M0 0h24v24H0V0z\" fill=\"none\"/>\n",
              "    <path d=\"M18.56 5.44l.94 2.06.94-2.06 2.06-.94-2.06-.94-.94-2.06-.94 2.06-2.06.94zm-11 1L8.5 8.5l.94-2.06 2.06-.94-2.06-.94L8.5 2.5l-.94 2.06-2.06.94zm10 10l.94 2.06.94-2.06 2.06-.94-2.06-.94-.94-2.06-.94 2.06-2.06.94z\"/><path d=\"M17.41 7.96l-1.37-1.37c-.4-.4-.92-.59-1.43-.59-.52 0-1.04.2-1.43.59L10.3 9.45l-7.72 7.72c-.78.78-.78 2.05 0 2.83L4 21.41c.39.39.9.59 1.41.59.51 0 1.02-.2 1.41-.59l7.78-7.78 2.81-2.81c.8-.78.8-2.07 0-2.86zM5.41 20L4 18.59l7.72-7.72 1.47 1.35L5.41 20z\"/>\n",
              "  </svg>\n",
              "      </button>\n",
              "      \n",
              "  <style>\n",
              "    .colab-df-container {\n",
              "      display:flex;\n",
              "      flex-wrap:wrap;\n",
              "      gap: 12px;\n",
              "    }\n",
              "\n",
              "    .colab-df-convert {\n",
              "      background-color: #E8F0FE;\n",
              "      border: none;\n",
              "      border-radius: 50%;\n",
              "      cursor: pointer;\n",
              "      display: none;\n",
              "      fill: #1967D2;\n",
              "      height: 32px;\n",
              "      padding: 0 0 0 0;\n",
              "      width: 32px;\n",
              "    }\n",
              "\n",
              "    .colab-df-convert:hover {\n",
              "      background-color: #E2EBFA;\n",
              "      box-shadow: 0px 1px 2px rgba(60, 64, 67, 0.3), 0px 1px 3px 1px rgba(60, 64, 67, 0.15);\n",
              "      fill: #174EA6;\n",
              "    }\n",
              "\n",
              "    [theme=dark] .colab-df-convert {\n",
              "      background-color: #3B4455;\n",
              "      fill: #D2E3FC;\n",
              "    }\n",
              "\n",
              "    [theme=dark] .colab-df-convert:hover {\n",
              "      background-color: #434B5C;\n",
              "      box-shadow: 0px 1px 3px 1px rgba(0, 0, 0, 0.15);\n",
              "      filter: drop-shadow(0px 1px 2px rgba(0, 0, 0, 0.3));\n",
              "      fill: #FFFFFF;\n",
              "    }\n",
              "  </style>\n",
              "\n",
              "      <script>\n",
              "        const buttonEl =\n",
              "          document.querySelector('#df-838a2d81-6c45-43d6-85c5-42a3fecd647e button.colab-df-convert');\n",
              "        buttonEl.style.display =\n",
              "          google.colab.kernel.accessAllowed ? 'block' : 'none';\n",
              "\n",
              "        async function convertToInteractive(key) {\n",
              "          const element = document.querySelector('#df-838a2d81-6c45-43d6-85c5-42a3fecd647e');\n",
              "          const dataTable =\n",
              "            await google.colab.kernel.invokeFunction('convertToInteractive',\n",
              "                                                     [key], {});\n",
              "          if (!dataTable) return;\n",
              "\n",
              "          const docLinkHtml = 'Like what you see? Visit the ' +\n",
              "            '<a target=\"_blank\" href=https://colab.research.google.com/notebooks/data_table.ipynb>data table notebook</a>'\n",
              "            + ' to learn more about interactive tables.';\n",
              "          element.innerHTML = '';\n",
              "          dataTable['output_type'] = 'display_data';\n",
              "          await google.colab.output.renderOutput(dataTable, element);\n",
              "          const docLink = document.createElement('div');\n",
              "          docLink.innerHTML = docLinkHtml;\n",
              "          element.appendChild(docLink);\n",
              "        }\n",
              "      </script>\n",
              "    </div>\n",
              "  </div>\n",
              "  "
            ]
          },
          "metadata": {},
          "execution_count": 56
        }
      ]
    },
    {
      "cell_type": "code",
      "source": [
        "from google.colab import drive\n",
        "drive.mount('/content/drive')"
      ],
      "metadata": {
        "colab": {
          "base_uri": "https://localhost:8080/"
        },
        "id": "P-mC9RVmKU2Y",
        "outputId": "6df30d7a-2a9d-42e0-aedb-630b85a07ca4"
      },
      "execution_count": 59,
      "outputs": [
        {
          "output_type": "stream",
          "name": "stdout",
          "text": [
            "Mounted at /content/drive\n"
          ]
        }
      ]
    },
    {
      "cell_type": "code",
      "source": [
        "!mkdir /content/drive/MyDrive/b2w-processed-dataset/\n",
        "!cp *.csv /content/drive/MyDrive/b2w-processed-dataset/"
      ],
      "metadata": {
        "id": "knfxJyUmKZvG"
      },
      "execution_count": 62,
      "outputs": []
    }
  ]
}